{
  "nbformat": 4,
  "nbformat_minor": 0,
  "metadata": {
    "colab": {
      "name": "random_change_games_and_intro_to_functions.ipynb",
      "provenance": [],
      "collapsed_sections": [],
      "authorship_tag": "ABX9TyOa4Cd8zdskY1nuMEdbRAoQ",
      "include_colab_link": true
    },
    "kernelspec": {
      "name": "python3",
      "display_name": "Python 3"
    }
  },
  "cells": [
    {
      "cell_type": "markdown",
      "metadata": {
        "id": "view-in-github",
        "colab_type": "text"
      },
      "source": [
        "<a href=\"https://colab.research.google.com/github/markumreed/ds4k/blob/master/random_change_games_and_intro_to_functions.ipynb\" target=\"_parent\"><img src=\"https://colab.research.google.com/assets/colab-badge.svg\" alt=\"Open In Colab\"/></a>"
      ]
    },
    {
      "cell_type": "markdown",
      "metadata": {
        "id": "-PwQ8vQJNqc_"
      },
      "source": [
        "# Roll the Dice: Yahtzee-Style Game\n",
        "\n",
        "## Yahtzee\n",
        "- 5 dice\n",
        "- Die has 6 sides [1-6]\n",
        "- 3 dice of same value\n",
        "---\n",
        "\n",
        "### Simplified Yahtzee Game\n",
        "1. Simulate a dice roll of 5 dice\n",
        "1. Check whether user rolled three of a kind, four or a kind, or Yahtzee\n",
        "1. Let them know the outcome. \n",
        "\n",
        "\n",
        "### Setting Up Game\n",
        "**Objectives:**\n",
        "1. Setup Game Loop\n",
        "1. Setup a hand of 5 dice (array/list); hold 5 random numbers [1-6]\n",
        "  1. Simulate the roll of the dice by assigning a random value to each of the items in the array. \n",
        "1. Compare the five dice: 3 of a kind, 4 of a kind, 5 of a kind\n",
        "  1. Give user reponse to outcome. \n",
        "\n",
        "### Sorting the Dice\n",
        "\n",
        "- Lists, Collections, arrays pythong -> Sorted\n",
        "\n",
        "```sort()```\n",
        "\n",
        "```dice.sort()```\n"
      ]
    },
    {
      "cell_type": "code",
      "metadata": {
        "id": "WSIP6azmNFq7"
      },
      "source": [
        "import random"
      ],
      "execution_count": 2,
      "outputs": []
    },
    {
      "cell_type": "code",
      "metadata": {
        "colab": {
          "base_uri": "https://localhost:8080/"
        },
        "id": "61aNIvz0Q5hf",
        "outputId": "d69de72b-6ab0-4bd6-86aa-810f0bc25c79"
      },
      "source": [
        "#random.seed(42) # Setting seed for reproducibility\n",
        "# Roll five random dice\n",
        "dice = [0,0,0,0,0] # Setup array for five values dice[0]-dice[4]\n",
        "\n",
        "for i in range(5): # Roll random number from 1-6 for all 5 dice\n",
        "  dice[i] = random.randint(1,6)\n",
        "  \n",
        "print(\"You rolled: \", dice)\n",
        "\n",
        "\n",
        "dice.sort() # sort the dice\n",
        "\n",
        "# Check for five of a kind, four of a kind, three of a kind\n",
        "# Yahtzee - all five dice are the same\n",
        "if dice[0] == dice[4]: # [1,1,1,1,1]\n",
        "  print(\"Yahtzee!\")\n",
        "elif (dice[0] == dice[3]) or (dice[1] == dice[4]): # [1,1,1,1,5], [5,1,1,1,1]\n",
        "  print(\"Four of a kind\")\n",
        "elif (dice[0] == dice[2]) or (dice[1] == dice[3]) or (dice[2] == dice[4]):\n",
        "  print(\"Three of a kind\")\n",
        "else:\n",
        "  print(\"Next Game\")\n"
      ],
      "execution_count": 46,
      "outputs": [
        {
          "output_type": "stream",
          "text": [
            "You rolled:  [4, 3, 1, 2, 5]\n",
            "Next Game\n"
          ],
          "name": "stdout"
        }
      ]
    },
    {
      "cell_type": "code",
      "metadata": {
        "colab": {
          "base_uri": "https://localhost:8080/"
        },
        "id": "ExXZSFbIXQhH",
        "outputId": "d38ad73d-1034-4fa2-9e24-a0f4419b7e08"
      },
      "source": [
        "# Game Loop\n",
        "keep_playing = True\n",
        "while keep_playing:\n",
        "  #random.seed(42) # Setting seed for reproducibility\n",
        "  # Roll five random dice\n",
        "  dice = [0,0,0,0,0] # Setup array for five values dice[0]-dice[4]\n",
        "\n",
        "  for i in range(5): # Roll random number from 1-6 for all 5 dice\n",
        "    dice[i] = random.randint(1,6)\n",
        "    \n",
        "  print(\"You rolled: \", dice)\n",
        "\n",
        "\n",
        "  dice.sort() # sort the dice\n",
        "\n",
        "  # Check for five of a kind, four of a kind, three of a kind\n",
        "  # Yahtzee - all five dice are the same\n",
        "  if dice[0] == dice[4]: # [1,1,1,1,1]\n",
        "    print(\"Yahtzee!\")\n",
        "  elif (dice[0] == dice[3]) or (dice[1] == dice[4]): # [1,1,1,1,5], [5,1,1,1,1]\n",
        "    print(\"Four of a kind\")\n",
        "  elif (dice[0] == dice[2]) or (dice[1] == dice[3]) or (dice[2] == dice[4]):\n",
        "    print(\"Three of a kind\")\n",
        "  keep_playing = (input(\"Hit [Enter] to keep going, any key to exit: \") == \"\")"
      ],
      "execution_count": 48,
      "outputs": [
        {
          "output_type": "stream",
          "text": [
            "You rolled:  [6, 3, 2, 6, 4]\n",
            "Hit [Enter] to keep going, any key to exit: \n",
            "You rolled:  [4, 6, 4, 2, 3]\n",
            "Hit [Enter] to keep going, any key to exit: \n",
            "You rolled:  [2, 2, 6, 5, 5]\n",
            "Hit [Enter] to keep going, any key to exit: \n",
            "You rolled:  [3, 6, 5, 4, 5]\n",
            "Hit [Enter] to keep going, any key to exit: \n",
            "You rolled:  [4, 3, 2, 2, 5]\n",
            "Hit [Enter] to keep going, any key to exit: f\n"
          ],
          "name": "stdout"
        }
      ]
    },
    {
      "cell_type": "markdown",
      "metadata": {
        "id": "5sf_tx_OY69H"
      },
      "source": [
        "# Functions"
      ]
    },
    {
      "cell_type": "code",
      "metadata": {
        "colab": {
          "base_uri": "https://localhost:8080/"
        },
        "id": "uFY75mx-XqDk",
        "outputId": "6bc9320f-3f65-49c0-88d3-ceb9e0096cdc"
      },
      "source": [
        "## Basic chat bots\n",
        "name = input(\"What is your name?\")\n",
        "print(\"Hello \", name)\n",
        "feeling = input(\"How are you feeling?\")\n",
        "print(\"I'm glad you are feeling \", feeling, \".\")"
      ],
      "execution_count": 49,
      "outputs": [
        {
          "output_type": "stream",
          "text": [
            "What is your name?Markum\n",
            "Hello  Markum\n",
            "How are you feeling?excited\n",
            "I'm glad you are feeling  excited .\n"
          ],
          "name": "stdout"
        }
      ]
    },
    {
      "cell_type": "code",
      "metadata": {
        "id": "LPOKzI6JZNWu"
      },
      "source": [
        "def greeting():\n",
        "  return \"Greetings!\"\n",
        "\n",
        "def question_1():\n",
        "  return input(\"How are you feeling today?\")\n",
        "\n",
        "def main():\n",
        "  print(greeting())\n",
        "  feeling = question_1()\n",
        "  if feeling == \"bad\":\n",
        "    print(\"I'm sorry you are feeling \", feeling)\n",
        "  else:\n",
        "    print(\"I'm glad you are feeling\", feeling)"
      ],
      "execution_count": 53,
      "outputs": []
    },
    {
      "cell_type": "code",
      "metadata": {
        "colab": {
          "base_uri": "https://localhost:8080/"
        },
        "id": "2MqbeTfFZ3Jg",
        "outputId": "56e2a564-3db3-4644-d6af-cfd344233bcf"
      },
      "source": [
        "main()"
      ],
      "execution_count": 54,
      "outputs": [
        {
          "output_type": "stream",
          "text": [
            "Greetings!\n",
            "How are you feeling today?bad\n",
            "I'm sorry you are feeling  bad\n"
          ],
          "name": "stdout"
        }
      ]
    },
    {
      "cell_type": "code",
      "metadata": {
        "colab": {
          "base_uri": "https://localhost:8080/"
        },
        "id": "mVnFs3eqZ4jh",
        "outputId": "2e103347-548a-430e-b10d-0da5e4fe259b"
      },
      "source": [
        "main()"
      ],
      "execution_count": 55,
      "outputs": [
        {
          "output_type": "stream",
          "text": [
            "Greetings!\n",
            "How are you feeling today?excited\n",
            "I'm glad you are feeling excited\n"
          ],
          "name": "stdout"
        }
      ]
    },
    {
      "cell_type": "code",
      "metadata": {
        "id": "3Px-Gt0qaC0w"
      },
      "source": [
        ""
      ],
      "execution_count": null,
      "outputs": []
    }
  ]
}