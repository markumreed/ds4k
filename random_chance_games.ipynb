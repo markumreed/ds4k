{
  "nbformat": 4,
  "nbformat_minor": 0,
  "metadata": {
    "colab": {
      "name": "random_chance_games.ipynb",
      "provenance": [],
      "collapsed_sections": [],
      "authorship_tag": "ABX9TyPhDawOlunE4dU0CkMMpbrw",
      "include_colab_link": true
    },
    "kernelspec": {
      "name": "python3",
      "display_name": "Python 3"
    }
  },
  "cells": [
    {
      "cell_type": "markdown",
      "metadata": {
        "id": "view-in-github",
        "colab_type": "text"
      },
      "source": [
        "<a href=\"https://colab.research.google.com/github/markumreed/ds4k/blob/master/random_chance_games.ipynb\" target=\"_parent\"><img src=\"https://colab.research.google.com/assets/colab-badge.svg\" alt=\"Open In Colab\"/></a>"
      ]
    },
    {
      "cell_type": "markdown",
      "metadata": {
        "id": "O2xmlAJDYGUT"
      },
      "source": [
        "# Random: Games of Chance\n",
        "1. Guessing Game\n",
        "1. Rock-Paper-Scissors\n",
        "1. High Card / War\n",
        "1. Five Dice\n",
        "\n",
        "## Guessing Game"
      ]
    },
    {
      "cell_type": "code",
      "metadata": {
        "id": "yEDjg2aAX6JH"
      },
      "source": [
        "import random"
      ],
      "execution_count": 1,
      "outputs": []
    },
    {
      "cell_type": "code",
      "metadata": {
        "colab": {
          "base_uri": "https://localhost:8080/"
        },
        "id": "lh-nvlh_Zfcy",
        "outputId": "f6d312f2-0931-42bb-d6d3-074dfa7d3992"
      },
      "source": [
        "random.randint(1,10) # Generates a random integer between 1 and 10"
      ],
      "execution_count": 6,
      "outputs": [
        {
          "output_type": "execute_result",
          "data": {
            "text/plain": [
              "7"
            ]
          },
          "metadata": {
            "tags": []
          },
          "execution_count": 6
        }
      ]
    },
    {
      "cell_type": "code",
      "metadata": {
        "id": "ZXlhP1s7Zk5g"
      },
      "source": [
        "# Guessing Game\n",
        "import random\n",
        "# Generagte a random integer between 1 and 10\n",
        "the_number = random.randint(1,10)\n",
        "# Ask for input/guess from the player\n",
        "guess = int(input(\"Guess a number between 1 and 10: \"))\n",
        "# While loop until the number is guessed\n",
        "# Give hints for too high or too low\n",
        "while guess != the_number: # Will run as long as the correct number has not been guessed\n",
        "  if guess > the_number: # Checking if the number to too high\n",
        "    print(guess, \"was too high. Try again.\")\n",
        "  if guess < the_number: # Checking if the number to too lower\n",
        "    print(guess, \"was too lower. Try again.\")\n",
        "  guess = int(input(\"Guess a number between 1 and 10: \"))\n",
        "print(guess, \"was the number! You win!\")\n"
      ],
      "execution_count": null,
      "outputs": []
    },
    {
      "cell_type": "code",
      "metadata": {
        "colab": {
          "base_uri": "https://localhost:8080/",
          "height": 35
        },
        "id": "FohBSeKYdO7j",
        "outputId": "0ae46e4c-b37e-43b4-a7cc-31579a335b2f"
      },
      "source": [
        "fruit = [\"apple\", \"bananna\", \"pear\"]\n",
        "random.choice(fruit)"
      ],
      "execution_count": 11,
      "outputs": [
        {
          "output_type": "execute_result",
          "data": {
            "application/vnd.google.colaboratory.intrinsic+json": {
              "type": "string"
            },
            "text/plain": [
              "'pear'"
            ]
          },
          "metadata": {
            "tags": []
          },
          "execution_count": 11
        }
      ]
    },
    {
      "cell_type": "code",
      "metadata": {
        "id": "uGobCMmLbF7l"
      },
      "source": [
        "# Rock, Paper, Scissors\n",
        "import random\n",
        "choices = [\"rock\", \"paper\", \"scissors\"]\n",
        "print(\"Rock crushes scissors. Scissors cuts paper. Paper covers rock.\")\n",
        "player = input(\"Do you want to be rock, paper, or scissors (or quit)?\")\n",
        "while player != \"quit\": # Keep playing untile user types \"quit\"\n",
        "  player = player.lower() # Change user input to lowercase\n",
        "  computer = random.choice(choices) # Pick one of the items in choices list\n",
        "  if player == computer:\n",
        "    print(\"It's a tie!\")\n",
        "  elif player == \"rock\":\n",
        "    if computer == \"scissors\":\n",
        "      print(\"You win!\")\n",
        "    else:\n",
        "      print(\"Computer wins!\")\n",
        "  elif player == \"paper\":\n",
        "    if computer == \"rock\":\n",
        "      print(\"You win!\")\n",
        "    else:\n",
        "      print(\"Computer wins!\")  \n",
        "  elif player == \"scissors\":\n",
        "    if computer == \"paper\":\n",
        "      print(\"You win!\")\n",
        "    else:\n",
        "      print(\"Computer wins!\")     \n",
        "  else:\n",
        "    print(\"I think there was some sort of error...\\n\") \n",
        "  player = input(\"Do you want to be rock, paper, or scissors (or quit)?\")"
      ],
      "execution_count": null,
      "outputs": []
    },
    {
      "cell_type": "markdown",
      "metadata": {
        "id": "9pmY4mMqghGB"
      },
      "source": [
        "## High Card"
      ]
    },
    {
      "cell_type": "code",
      "metadata": {
        "id": "wLvR0Nw3eZRk"
      },
      "source": [
        "# 52 Cards in a Deck (without Joker) \n",
        "# Suits: Diamonds, Spades, Clubs, Hearts\n",
        "# Faces: two, three, four, five, six, seven, eight, nine, ten, jack, queen, king, ace"
      ],
      "execution_count": 13,
      "outputs": []
    },
    {
      "cell_type": "code",
      "metadata": {
        "colab": {
          "base_uri": "https://localhost:8080/"
        },
        "id": "GDjw0Y3Vg2dP",
        "outputId": "7c1d1342-6c97-419e-877d-6ad722876a08"
      },
      "source": [
        "# High Card\n",
        "import random\n",
        "suits = [\"clubs\", \"diamonds\", \"hearts\", \"spades\"]\n",
        "faces = [\"two\", \"three\", \"four\", \"five\", \"six\", \"seven\", \"eight\", \"nine\", \"ten\",\n",
        "         \"jack\", \"queen\", \"king\",\"ace\"]\n",
        "keep_going = True\n",
        "\n",
        "while keep_going:\n",
        "  my_face = random.choice(faces)\n",
        "  my_suit = random.choice(suits)\n",
        "  your_face = random.choice(faces)\n",
        "  your_suit = random.choice(suits)\n",
        "\n",
        "  print(f\"I have the {my_face} of {my_suit}.\")\n",
        "  print(f\"You have the {your_face} of {your_suit}.\")\n",
        "\n",
        "  if faces.index(my_face) > faces.index(your_face):\n",
        "    print(\"I win!\")\n",
        "  elif faces.index(my_face) < faces.index(your_face):\n",
        "    print(\"You win!\")\n",
        "  else:\n",
        "    print(\"it's a tie!\")\n",
        "\n",
        "  answer = input(\"Hit [Enter] to keep going, and key to exit: \")\n",
        "  keep_going = (answer == \"\")\n"
      ],
      "execution_count": 31,
      "outputs": [
        {
          "output_type": "stream",
          "text": [
            "I have the ace of spades\n",
            "You have the two of diamonds\n",
            "I win!\n"
          ],
          "name": "stdout"
        }
      ]
    },
    {
      "cell_type": "code",
      "metadata": {
        "id": "609MhT2Ui9Cw"
      },
      "source": [
        ""
      ],
      "execution_count": null,
      "outputs": []
    }
  ]
}