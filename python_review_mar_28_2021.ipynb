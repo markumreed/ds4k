{
  "nbformat": 4,
  "nbformat_minor": 0,
  "metadata": {
    "colab": {
      "name": "python_review_mar_28_2021.ipynb",
      "provenance": [],
      "collapsed_sections": [],
      "authorship_tag": "ABX9TyPTdj2/tnlCBqmRaQzwlaeX",
      "include_colab_link": true
    },
    "kernelspec": {
      "name": "python3",
      "display_name": "Python 3"
    },
    "language_info": {
      "name": "python"
    }
  },
  "cells": [
    {
      "cell_type": "markdown",
      "metadata": {
        "id": "view-in-github",
        "colab_type": "text"
      },
      "source": [
        "<a href=\"https://colab.research.google.com/github/markumreed/ds4k/blob/master/python_review_mar_28_2021.ipynb\" target=\"_parent\"><img src=\"https://colab.research.google.com/assets/colab-badge.svg\" alt=\"Open In Colab\"/></a>"
      ]
    },
    {
      "cell_type": "markdown",
      "metadata": {
        "id": "RtNqIvbGUUtM"
      },
      "source": [
        "# Review of Basic Concepts\n",
        "## Variables\n",
        "\n",
        "- Figure out how many coins you would have at the end of the year if you could magically create new coins with some tool?"
      ]
    },
    {
      "cell_type": "code",
      "metadata": {
        "colab": {
          "base_uri": "https://localhost:8080/"
        },
        "id": "ojoNtIhSTkRz",
        "outputId": "5e76b298-4989-4007-c67d-bc786cb8ddf1"
      },
      "source": [
        "20 + 10 * 365 # daily"
      ],
      "execution_count": 1,
      "outputs": [
        {
          "output_type": "execute_result",
          "data": {
            "text/plain": [
              "3670"
            ]
          },
          "metadata": {
            "tags": []
          },
          "execution_count": 1
        }
      ]
    },
    {
      "cell_type": "code",
      "metadata": {
        "colab": {
          "base_uri": "https://localhost:8080/"
        },
        "id": "_v0FgpVTVKGf",
        "outputId": "5f96b7b3-952e-4a1f-8fc5-ac9dcb6fa94e"
      },
      "source": [
        "3 * 52 # weekly"
      ],
      "execution_count": 2,
      "outputs": [
        {
          "output_type": "execute_result",
          "data": {
            "text/plain": [
              "156"
            ]
          },
          "metadata": {
            "tags": []
          },
          "execution_count": 2
        }
      ]
    },
    {
      "cell_type": "code",
      "metadata": {
        "colab": {
          "base_uri": "https://localhost:8080/"
        },
        "id": "dt0J-i9VVN4e",
        "outputId": "0b0311e2-3f77-4efc-f66a-7f603e4dd3b9"
      },
      "source": [
        "3670 - 156"
      ],
      "execution_count": 3,
      "outputs": [
        {
          "output_type": "execute_result",
          "data": {
            "text/plain": [
              "3514"
            ]
          },
          "metadata": {
            "tags": []
          },
          "execution_count": 3
        }
      ]
    },
    {
      "cell_type": "code",
      "metadata": {
        "id": "3Zj2688IVT9N"
      },
      "source": [
        "found_coins = 20\n",
        "magic_coins = 13\n",
        "stolen_coins = 2"
      ],
      "execution_count": 8,
      "outputs": []
    },
    {
      "cell_type": "code",
      "metadata": {
        "colab": {
          "base_uri": "https://localhost:8080/"
        },
        "id": "TEP6LfWwVbne",
        "outputId": "f808f388-a978-46de-8ed1-1104b73e4ac3"
      },
      "source": [
        "found_coins + magic_coins * 365 - stolen_coins * 52"
      ],
      "execution_count": 10,
      "outputs": [
        {
          "output_type": "execute_result",
          "data": {
            "text/plain": [
              "4661"
            ]
          },
          "metadata": {
            "tags": []
          },
          "execution_count": 10
        }
      ]
    },
    {
      "cell_type": "code",
      "metadata": {
        "id": "dojsC5p8VlFI"
      },
      "source": [
        "def coin_equation(found_coins, magic_coins, stolen_coins):\n",
        "  return found_coins + magic_coins * 365 - stolen_coins * 52"
      ],
      "execution_count": 11,
      "outputs": []
    },
    {
      "cell_type": "code",
      "metadata": {
        "colab": {
          "base_uri": "https://localhost:8080/"
        },
        "id": "-XgEeNMjWPMz",
        "outputId": "237802e6-8340-4d96-9ef3-1206b28739a3"
      },
      "source": [
        "coin_equation(20, 10, 2)"
      ],
      "execution_count": 13,
      "outputs": [
        {
          "output_type": "execute_result",
          "data": {
            "text/plain": [
              "3566"
            ]
          },
          "metadata": {
            "tags": []
          },
          "execution_count": 13
        }
      ]
    },
    {
      "cell_type": "markdown",
      "metadata": {
        "id": "QQH6OE6zWZbv"
      },
      "source": [
        "## Movie Times Equation\n",
        "\n",
        "- 90 mins\n",
        "  - \"1 hour and 30 mins\"\n",
        "- 120 mins\n",
        "  - 2 hours and 0 mins\"\n",
        "\n",
        "- \n"
      ]
    },
    {
      "cell_type": "code",
      "metadata": {
        "colab": {
          "base_uri": "https://localhost:8080/"
        },
        "id": "raOCsCgrWRsI",
        "outputId": "1b55abba-69e7-4a2d-c9f3-4f092e819011"
      },
      "source": [
        "90 // 60 # floor/int division"
      ],
      "execution_count": 14,
      "outputs": [
        {
          "output_type": "execute_result",
          "data": {
            "text/plain": [
              "1"
            ]
          },
          "metadata": {
            "tags": []
          },
          "execution_count": 14
        }
      ]
    },
    {
      "cell_type": "code",
      "metadata": {
        "colab": {
          "base_uri": "https://localhost:8080/"
        },
        "id": "i1lDj9N7W8f0",
        "outputId": "ff4d30c6-bbe0-489d-df31-e2e6715c4467"
      },
      "source": [
        "90 %  # modulus finds remainder"
      ],
      "execution_count": 15,
      "outputs": [
        {
          "output_type": "execute_result",
          "data": {
            "text/plain": [
              "30"
            ]
          },
          "metadata": {
            "tags": []
          },
          "execution_count": 15
        }
      ]
    },
    {
      "cell_type": "code",
      "metadata": {
        "id": "gWAad3acW_EL"
      },
      "source": [
        "movie_len = 90"
      ],
      "execution_count": 16,
      "outputs": []
    },
    {
      "cell_type": "code",
      "metadata": {
        "id": "hjZ4psXJXWcU"
      },
      "source": [
        "hrs = movie_len // 60\n",
        "mins = movie_len % 60"
      ],
      "execution_count": 17,
      "outputs": []
    },
    {
      "cell_type": "code",
      "metadata": {
        "colab": {
          "base_uri": "https://localhost:8080/"
        },
        "id": "lp31EbvkXdAV",
        "outputId": "7908848f-f555-48b6-923d-99030cc2fa21"
      },
      "source": [
        "print(f\"The movie is {hrs} hour(s) and {mins} minutes long.\\nDo you still want to go see it?\")"
      ],
      "execution_count": 18,
      "outputs": [
        {
          "output_type": "stream",
          "text": [
            "The movie is 1 hour(s) and 30 minutes long.\n",
            "Do you still want to go see it?\n"
          ],
          "name": "stdout"
        }
      ]
    },
    {
      "cell_type": "code",
      "metadata": {
        "id": "bGRUN4IaXo-u"
      },
      "source": [
        "def movie_time(movie_len):\n",
        "  hrs = movie_len // 60\n",
        "  mins = movie_len % 60\n",
        "  return f\"The movie is {hrs} hour(s) and {mins} minutes long.\\nDo you still want to go see it?\""
      ],
      "execution_count": 20,
      "outputs": []
    },
    {
      "cell_type": "code",
      "metadata": {
        "colab": {
          "base_uri": "https://localhost:8080/"
        },
        "id": "-Cv3pmuOYAU9",
        "outputId": "eabf3b56-c12f-47d9-d486-d2b8ba4a5f8e"
      },
      "source": [
        "movie_len = 33\n",
        "print(movie_time(movie_len))"
      ],
      "execution_count": 29,
      "outputs": [
        {
          "output_type": "stream",
          "text": [
            "The movie is 0 hour(s) and 33 minutes long.\n",
            "Do you still want to go see it?\n"
          ],
          "name": "stdout"
        }
      ]
    },
    {
      "cell_type": "code",
      "metadata": {
        "id": "ZQHaOw3pYKh0"
      },
      "source": [
        "def movie_time(movie_len):\n",
        "  hrs, mins = divmod(movie_len, 60)\n",
        "  return f\"The movie is {hrs} hour(s) and {mins} minutes long.\\nDo you still want to go see it?\"\n",
        "  "
      ],
      "execution_count": 33,
      "outputs": []
    },
    {
      "cell_type": "code",
      "metadata": {
        "colab": {
          "base_uri": "https://localhost:8080/"
        },
        "id": "rQ6YKkdPaP7k",
        "outputId": "1b4e2a89-c0d2-4b55-f6af-35fc10dcf58b"
      },
      "source": [
        "print(movie_time(123))"
      ],
      "execution_count": 35,
      "outputs": [
        {
          "output_type": "stream",
          "text": [
            "The movie is 2 hour(s) and 3 minutes long.\n",
            "Do you still want to go see it?\n"
          ],
          "name": "stdout"
        }
      ]
    },
    {
      "cell_type": "code",
      "metadata": {
        "colab": {
          "base_uri": "https://localhost:8080/"
        },
        "id": "7kiY74ZAaSn6",
        "outputId": "95402631-453f-4ee8-ed11-4b8c10da0b08"
      },
      "source": [
        "movie_len = 332\n",
        "print(movie_time(movie_len))"
      ],
      "execution_count": 43,
      "outputs": [
        {
          "output_type": "stream",
          "text": [
            "The movie is 5 hour(s) and 32 minutes long.\n",
            "Do you still want to go see it?\n"
          ],
          "name": "stdout"
        }
      ]
    },
    {
      "cell_type": "code",
      "metadata": {
        "id": "lmzIim1CatDA"
      },
      "source": [
        "# Tuple, similar to a list immutable"
      ],
      "execution_count": 37,
      "outputs": []
    },
    {
      "cell_type": "code",
      "metadata": {
        "id": "ngz9wA8oazNc"
      },
      "source": [
        "\"Here is a double quoted string?\""
      ],
      "execution_count": null,
      "outputs": []
    },
    {
      "cell_type": "markdown",
      "metadata": {
        "id": "u381TpC3cTJZ"
      },
      "source": [
        "`\\` is called an \"escape character\""
      ]
    },
    {
      "cell_type": "code",
      "metadata": {
        "id": "L8n5us5jb159"
      },
      "source": [
        "single_quote_str = 'He said, \"Aren\\'t can\\'t shouldn\\'t wouldn\\'t.\"'"
      ],
      "execution_count": 44,
      "outputs": []
    },
    {
      "cell_type": "code",
      "metadata": {
        "id": "jCA65cjtcJSx"
      },
      "source": [
        "double_quote_str = \"He said, \\\"Aren't can't shouldn't wouldn't.\\\"\""
      ],
      "execution_count": 46,
      "outputs": []
    },
    {
      "cell_type": "code",
      "metadata": {
        "colab": {
          "base_uri": "https://localhost:8080/"
        },
        "id": "Xo-IVRavcChp",
        "outputId": "9b988736-d8d7-44be-a267-c3f5218523a5"
      },
      "source": [
        "print(single_quote_str)"
      ],
      "execution_count": 45,
      "outputs": [
        {
          "output_type": "stream",
          "text": [
            "He said, \"Aren't can't shouldn't wouldn't.\"\n"
          ],
          "name": "stdout"
        }
      ]
    },
    {
      "cell_type": "code",
      "metadata": {
        "colab": {
          "base_uri": "https://localhost:8080/"
        },
        "id": "TRvWhVMEcEq9",
        "outputId": "7d50c4f5-7ce2-419a-e622-7df10fc2ae8f"
      },
      "source": [
        "print(double_quote_str)"
      ],
      "execution_count": 47,
      "outputs": [
        {
          "output_type": "stream",
          "text": [
            "He said, \"Aren't can't shouldn't wouldn't.\"\n"
          ],
          "name": "stdout"
        }
      ]
    },
    {
      "cell_type": "code",
      "metadata": {
        "id": "0XDvbebacbXG"
      },
      "source": [
        "nums = \"What did the %s say to the number %s? Nice belt!!\""
      ],
      "execution_count": 48,
      "outputs": []
    },
    {
      "cell_type": "code",
      "metadata": {
        "colab": {
          "base_uri": "https://localhost:8080/"
        },
        "id": "WBXumm_1czyi",
        "outputId": "de09ce21-0194-4f18-ef7e-8cebee655864"
      },
      "source": [
        "print(nums % (0, 8))"
      ],
      "execution_count": 49,
      "outputs": [
        {
          "output_type": "stream",
          "text": [
            "What did the 0 say to the number 8? Nice belt!!\n"
          ],
          "name": "stdout"
        }
      ]
    },
    {
      "cell_type": "code",
      "metadata": {
        "colab": {
          "base_uri": "https://localhost:8080/"
        },
        "id": "r2x8omb2c2rm",
        "outputId": "f0444f8d-b8a4-4e96-846d-51503b86eda7"
      },
      "source": [
        "print(10 * \"a\")"
      ],
      "execution_count": 50,
      "outputs": [
        {
          "output_type": "stream",
          "text": [
            "aaaaaaaaaa\n"
          ],
          "name": "stdout"
        }
      ]
    },
    {
      "cell_type": "code",
      "metadata": {
        "colab": {
          "base_uri": "https://localhost:8080/"
        },
        "id": "Eb6k6I8GdBgm",
        "outputId": "5af2f1ec-13ee-4c2a-ac1b-a684d82c0a88"
      },
      "source": [
        "print(' ' * 25)"
      ],
      "execution_count": 51,
      "outputs": [
        {
          "output_type": "stream",
          "text": [
            "                         \n"
          ],
          "name": "stdout"
        }
      ]
    },
    {
      "cell_type": "markdown",
      "metadata": {
        "id": "fRU--OQ1dhwT"
      },
      "source": [
        "## Writing a Letter with Python Strings"
      ]
    },
    {
      "cell_type": "code",
      "metadata": {
        "id": "jW7xQ1NTdGFi"
      },
      "source": [
        "spaces = \" \" * 26"
      ],
      "execution_count": 61,
      "outputs": []
    },
    {
      "cell_type": "code",
      "metadata": {
        "colab": {
          "base_uri": "https://localhost:8080/"
        },
        "id": "x-4-WVXddNhg",
        "outputId": "d5375b9e-2525-4ade-c4a2-f9a613ec4a10"
      },
      "source": [
        "print(\"%s 12 Butts Wynd\" % spaces)\n",
        "print(\"%s Twinklebotton Heath\" % spaces)\n",
        "print(\"%s West Snoring\" % spaces)\n",
        "print()\n",
        "print()\n",
        "print(\"Dear Dr. Xu, \")\n",
        "print()\n",
        "print(\"I wish to report that tiles are missing from the\")\n",
        "print(\"outside toilet roof.\")\n",
        "print(\"I believe it was a bad wind the other night that\")\n",
        "print(\"blew them away.\")\n",
        "print()\n",
        "print(\"Regards,\")\n",
        "print()\n",
        "print(\"Markum Reed, Ph.D.\")"
      ],
      "execution_count": 63,
      "outputs": [
        {
          "output_type": "stream",
          "text": [
            "                           12 Butts Wynd\n",
            "                           Twinklebotton Heath\n",
            "                           West Snoring\n",
            "\n",
            "\n",
            "Dear Dr. Xu, \n",
            "\n",
            "I wish to report that tiles are missing from the\n",
            "outside toilet roof.\n",
            "I believe it was a bad wind the other night that\n",
            "blew them away.\n",
            "\n",
            "Regards,\n",
            "\n",
            "Markum Reed, Ph.D.\n"
          ],
          "name": "stdout"
        }
      ]
    },
    {
      "cell_type": "markdown",
      "metadata": {
        "id": "aaU3KeSCed1O"
      },
      "source": [
        "## Lists"
      ]
    },
    {
      "cell_type": "code",
      "metadata": {
        "id": "LLTD-gZEdTjS"
      },
      "source": [
        "# Normal list with writing/text\n",
        "wizard_list = \"spider legs, toe of frog, eye of newt, bat wing, slug butter, snake dandruff\""
      ],
      "execution_count": 65,
      "outputs": []
    },
    {
      "cell_type": "code",
      "metadata": {
        "colab": {
          "base_uri": "https://localhost:8080/"
        },
        "id": "wvUp2Jtverv1",
        "outputId": "e5f2539d-3fd0-4e73-abfb-51fa60791e67"
      },
      "source": [
        "print(wizard_list)"
      ],
      "execution_count": 66,
      "outputs": [
        {
          "output_type": "stream",
          "text": [
            "spider legs, toe of frog, eye of newt, bat wing, slug butter, snake dandruff\n"
          ],
          "name": "stdout"
        }
      ]
    },
    {
      "cell_type": "code",
      "metadata": {
        "id": "navUwV22exzu"
      },
      "source": [
        "wizard_list = [\"spider legs\", \"toe of frog\", \"eye of newt\", \"bat wing\",\"slug butter\", \"snake dandruff\"]"
      ],
      "execution_count": 67,
      "outputs": []
    },
    {
      "cell_type": "code",
      "metadata": {
        "colab": {
          "base_uri": "https://localhost:8080/"
        },
        "id": "Oz6wFHSoe-17",
        "outputId": "3f933b9a-3cd8-4290-d0b2-405082f273ce"
      },
      "source": [
        "print(wizard_list)"
      ],
      "execution_count": 68,
      "outputs": [
        {
          "output_type": "stream",
          "text": [
            "['spider legs', 'toe of frog', 'eye of newt', 'bat wing', 'slug butter', 'snake dandruff']\n"
          ],
          "name": "stdout"
        }
      ]
    },
    {
      "cell_type": "code",
      "metadata": {
        "colab": {
          "base_uri": "https://localhost:8080/"
        },
        "id": "IEmstcHJe_3V",
        "outputId": "4fbbc112-03f9-4218-cd96-3a8a8f85d34b"
      },
      "source": [
        "print(wizard_list[4]) # indexing"
      ],
      "execution_count": 70,
      "outputs": [
        {
          "output_type": "stream",
          "text": [
            "slug butter\n"
          ],
          "name": "stdout"
        }
      ]
    },
    {
      "cell_type": "code",
      "metadata": {
        "colab": {
          "base_uri": "https://localhost:8080/"
        },
        "id": "6S88mQdtfDtc",
        "outputId": "3fba5ee9-957d-41a1-9484-8a5ed325ae8f"
      },
      "source": [
        "for item in wizard_list:\n",
        "  print(item)"
      ],
      "execution_count": 71,
      "outputs": [
        {
          "output_type": "stream",
          "text": [
            "spider legs\n",
            "toe of frog\n",
            "eye of newt\n",
            "bat wing\n",
            "slug butter\n",
            "snake dandruff\n"
          ],
          "name": "stdout"
        }
      ]
    },
    {
      "cell_type": "code",
      "metadata": {
        "colab": {
          "base_uri": "https://localhost:8080/"
        },
        "id": "IYqRwvvpfMFb",
        "outputId": "0efa9b13-8485-4113-af0b-9dabbc520f46"
      },
      "source": [
        "for num, item in enumerate(wizard_list):\n",
        "  print(num+1, item, '_')\n"
      ],
      "execution_count": 73,
      "outputs": [
        {
          "output_type": "stream",
          "text": [
            "1 spider legs _\n",
            "2 toe of frog _\n",
            "3 eye of newt _\n",
            "4 bat wing _\n",
            "5 slug butter _\n",
            "6 snake dandruff _\n"
          ],
          "name": "stdout"
        }
      ]
    },
    {
      "cell_type": "code",
      "metadata": {
        "id": "BIifLW4wfYvs"
      },
      "source": [
        "wizard_list.append(\"bear burp\") # append adds item to the end of the list"
      ],
      "execution_count": 74,
      "outputs": []
    },
    {
      "cell_type": "code",
      "metadata": {
        "colab": {
          "base_uri": "https://localhost:8080/"
        },
        "id": "9R4PFkY8fhz1",
        "outputId": "59e859aa-6fc5-4662-fdd9-a1b0021bc47f"
      },
      "source": [
        "print(wizard_list)"
      ],
      "execution_count": 75,
      "outputs": [
        {
          "output_type": "stream",
          "text": [
            "['spider legs', 'toe of frog', 'eye of newt', 'bat wing', 'slug butter', 'snake dandruff', 'bear burp']\n"
          ],
          "name": "stdout"
        }
      ]
    },
    {
      "cell_type": "code",
      "metadata": {
        "id": "lHSbhM_AfjcE"
      },
      "source": [
        "wizard_list.append(\"mandrake root\")\n",
        "wizard_list.append(\"hemlock\")\n",
        "wizard_list.append(\"swamp gas\")"
      ],
      "execution_count": 76,
      "outputs": []
    },
    {
      "cell_type": "code",
      "metadata": {
        "colab": {
          "base_uri": "https://localhost:8080/"
        },
        "id": "TDKBTWYDf1D3",
        "outputId": "a4f3c75c-7cd1-4e27-9b36-7a3bb7c10ea8"
      },
      "source": [
        "print(\"Index\\t\", \"Item\")\n",
        "for num, item in enumerate(wizard_list):\n",
        "  print(num,'\\t', item)"
      ],
      "execution_count": 85,
      "outputs": [
        {
          "output_type": "stream",
          "text": [
            "Index\t Item\n",
            "0 \t spider legs\n",
            "1 \t toe of frog\n",
            "2 \t eye of newt\n",
            "3 \t bat wing\n",
            "4 \t slug butter\n",
            "5 \t snake dandruff\n",
            "6 \t bear burp\n",
            "7 \t mandrake root\n",
            "8 \t hemlock\n",
            "9 \t swamp gas\n"
          ],
          "name": "stdout"
        }
      ]
    },
    {
      "cell_type": "code",
      "metadata": {
        "colab": {
          "base_uri": "https://localhost:8080/"
        },
        "id": "4aXpY8p2f4lj",
        "outputId": "8c5ae463-fba9-4448-b4e6-d1e4d89587f7"
      },
      "source": [
        "print(wizard_list[5])"
      ],
      "execution_count": 86,
      "outputs": [
        {
          "output_type": "stream",
          "text": [
            "snake dandruff\n"
          ],
          "name": "stdout"
        }
      ]
    },
    {
      "cell_type": "code",
      "metadata": {
        "id": "6fFD1Ab4gVEW"
      },
      "source": [
        "del wizard_list[5]"
      ],
      "execution_count": 87,
      "outputs": []
    },
    {
      "cell_type": "code",
      "metadata": {
        "colab": {
          "base_uri": "https://localhost:8080/"
        },
        "id": "vObUz5UVgY1B",
        "outputId": "48dc7137-7c91-488f-a659-20e0050487fa"
      },
      "source": [
        "print(\"Index\\t\", \"Item\")\n",
        "for num, item in enumerate(wizard_list):\n",
        "  print(num,'\\t', item)"
      ],
      "execution_count": 88,
      "outputs": [
        {
          "output_type": "stream",
          "text": [
            "Index\t Item\n",
            "0 \t spider legs\n",
            "1 \t toe of frog\n",
            "2 \t eye of newt\n",
            "3 \t bat wing\n",
            "4 \t slug butter\n",
            "5 \t bear burp\n",
            "6 \t mandrake root\n",
            "7 \t hemlock\n",
            "8 \t swamp gas\n"
          ],
          "name": "stdout"
        }
      ]
    },
    {
      "cell_type": "code",
      "metadata": {
        "id": "bp2CacgQgcLU"
      },
      "source": [
        ""
      ],
      "execution_count": null,
      "outputs": []
    }
  ]
}