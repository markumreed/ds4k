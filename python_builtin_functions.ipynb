{
  "nbformat": 4,
  "nbformat_minor": 0,
  "metadata": {
    "colab": {
      "name": "python_builtin_functions.ipynb",
      "provenance": [],
      "collapsed_sections": [],
      "authorship_tag": "ABX9TyNeiuiqvNnSxNkgbCwH9X4K",
      "include_colab_link": true
    },
    "kernelspec": {
      "name": "python3",
      "display_name": "Python 3"
    },
    "language_info": {
      "name": "python"
    }
  },
  "cells": [
    {
      "cell_type": "markdown",
      "metadata": {
        "id": "view-in-github",
        "colab_type": "text"
      },
      "source": [
        "<a href=\"https://colab.research.google.com/github/markumreed/ds4k/blob/master/python_builtin_functions.ipynb\" target=\"_parent\"><img src=\"https://colab.research.google.com/assets/colab-badge.svg\" alt=\"Open In Colab\"/></a>"
      ]
    },
    {
      "cell_type": "markdown",
      "metadata": {
        "id": "ZWmSgNZRfDc9"
      },
      "source": [
        "# Python Built-In Functions\n",
        "\n",
        "- $|-10|$ = 10\n",
        "- $|10|$ = 10"
      ]
    },
    {
      "cell_type": "code",
      "metadata": {
        "id": "zGpmkN8teyMs",
        "colab": {
          "base_uri": "https://localhost:8080/"
        },
        "outputId": "c9f114da-5cb1-44d0-e705-14243fd02a86"
      },
      "source": [
        "print(abs(-10)) # Built-In functions"
      ],
      "execution_count": 1,
      "outputs": [
        {
          "output_type": "stream",
          "text": [
            "10\n"
          ],
          "name": "stdout"
        }
      ]
    },
    {
      "cell_type": "code",
      "metadata": {
        "colab": {
          "base_uri": "https://localhost:8080/"
        },
        "id": "DAmVayyjhNHi",
        "outputId": "87053922-21e4-4509-edb3-d567198e6d5a"
      },
      "source": [
        "print(abs(10))"
      ],
      "execution_count": 2,
      "outputs": [
        {
          "output_type": "stream",
          "text": [
            "10\n"
          ],
          "name": "stdout"
        }
      ]
    },
    {
      "cell_type": "code",
      "metadata": {
        "colab": {
          "base_uri": "https://localhost:8080/"
        },
        "id": "23yTlV-BhO-z",
        "outputId": "ca72bbb1-1144-4c59-c6bd-2a65753fbd75"
      },
      "source": [
        "# Using Absolute Value\n",
        "steps = -3\n",
        "if abs(steps) > 0:\n",
        "  print(\"Character is moving!\")"
      ],
      "execution_count": 4,
      "outputs": [
        {
          "output_type": "stream",
          "text": [
            "Character is moving!\n"
          ],
          "name": "stdout"
        }
      ]
    },
    {
      "cell_type": "code",
      "metadata": {
        "colab": {
          "base_uri": "https://localhost:8080/"
        },
        "id": "Usm4NH8ehdqL",
        "outputId": "8fc67575-1450-4a16-929f-f207f7024ba2"
      },
      "source": [
        "# Without Absolute Value\n",
        "steps = -3\n",
        "if steps < 0 or steps > 0: #  Much longer than before!\n",
        "  print(\"Character is moving!\")"
      ],
      "execution_count": 5,
      "outputs": [
        {
          "output_type": "stream",
          "text": [
            "Character is moving!\n"
          ],
          "name": "stdout"
        }
      ]
    },
    {
      "cell_type": "code",
      "metadata": {
        "colab": {
          "base_uri": "https://localhost:8080/"
        },
        "id": "CX3f038thtAa",
        "outputId": "bf711ed6-92d9-4d4f-9831-0df309a49632"
      },
      "source": [
        "# Bool Function: Boolean refers to True == 1 or False == 0\n",
        "print(bool(0))"
      ],
      "execution_count": 6,
      "outputs": [
        {
          "output_type": "stream",
          "text": [
            "False\n"
          ],
          "name": "stdout"
        }
      ]
    },
    {
      "cell_type": "code",
      "metadata": {
        "colab": {
          "base_uri": "https://localhost:8080/"
        },
        "id": "zxGCrgzzh_Ar",
        "outputId": "ba0f60fb-81fd-44b5-e2e5-3aefd69ff229"
      },
      "source": [
        "print(bool(1))"
      ],
      "execution_count": 7,
      "outputs": [
        {
          "output_type": "stream",
          "text": [
            "True\n"
          ],
          "name": "stdout"
        }
      ]
    },
    {
      "cell_type": "code",
      "metadata": {
        "colab": {
          "base_uri": "https://localhost:8080/"
        },
        "id": "kLUR4T0viDJw",
        "outputId": "790793ee-2e77-4498-9d66-b224b0b214fe"
      },
      "source": [
        "print(bool(1123.45))"
      ],
      "execution_count": 8,
      "outputs": [
        {
          "output_type": "stream",
          "text": [
            "True\n"
          ],
          "name": "stdout"
        }
      ]
    },
    {
      "cell_type": "code",
      "metadata": {
        "colab": {
          "base_uri": "https://localhost:8080/"
        },
        "id": "XAAXrfaGiJlN",
        "outputId": "66ba766a-3d71-4301-92d7-469b91493b47"
      },
      "source": [
        "print(bool(-54))"
      ],
      "execution_count": 9,
      "outputs": [
        {
          "output_type": "stream",
          "text": [
            "True\n"
          ],
          "name": "stdout"
        }
      ]
    },
    {
      "cell_type": "code",
      "metadata": {
        "id": "5r4i3GeQiPB8"
      },
      "source": [
        "# If nothing then False"
      ],
      "execution_count": 10,
      "outputs": []
    },
    {
      "cell_type": "code",
      "metadata": {
        "colab": {
          "base_uri": "https://localhost:8080/"
        },
        "id": "BaKmuMzTiTcl",
        "outputId": "345b0959-47fd-469b-e5b5-2d126ea49455"
      },
      "source": [
        "print(bool(None))"
      ],
      "execution_count": 11,
      "outputs": [
        {
          "output_type": "stream",
          "text": [
            "False\n"
          ],
          "name": "stdout"
        }
      ]
    },
    {
      "cell_type": "code",
      "metadata": {
        "colab": {
          "base_uri": "https://localhost:8080/"
        },
        "id": "Q_kUbosNiYQu",
        "outputId": "509c4b87-cbe0-4590-cf9b-8b366e81d387"
      },
      "source": [
        "print(bool(\"A\"))"
      ],
      "execution_count": 12,
      "outputs": [
        {
          "output_type": "stream",
          "text": [
            "True\n"
          ],
          "name": "stdout"
        }
      ]
    },
    {
      "cell_type": "code",
      "metadata": {
        "colab": {
          "base_uri": "https://localhost:8080/"
        },
        "id": "81_POCPJicxj",
        "outputId": "d98d589c-ae0a-45f2-c936-3065b010cd7d"
      },
      "source": [
        "print(bool(\" \")) "
      ],
      "execution_count": 13,
      "outputs": [
        {
          "output_type": "stream",
          "text": [
            "True\n"
          ],
          "name": "stdout"
        }
      ]
    },
    {
      "cell_type": "code",
      "metadata": {
        "colab": {
          "base_uri": "https://localhost:8080/"
        },
        "id": "RjhPYTRXilq6",
        "outputId": "7f1527a7-b879-4253-d036-8d3155ca6fcd"
      },
      "source": [
        "my_silly_list = [] # Null Set\n",
        "print(bool(my_silly_list))"
      ],
      "execution_count": 14,
      "outputs": [
        {
          "output_type": "stream",
          "text": [
            "False\n"
          ],
          "name": "stdout"
        }
      ]
    },
    {
      "cell_type": "code",
      "metadata": {
        "colab": {
          "base_uri": "https://localhost:8080/"
        },
        "id": "bInY1wTFi8c7",
        "outputId": "b10310a5-dbdb-47b8-a589-a06249e94ca5"
      },
      "source": [
        "another_silly_list = [\"Pineapple\", \"bannana\"]\n",
        "print(bool(another_silly_list))"
      ],
      "execution_count": 15,
      "outputs": [
        {
          "output_type": "stream",
          "text": [
            "True\n"
          ],
          "name": "stdout"
        }
      ]
    },
    {
      "cell_type": "code",
      "metadata": {
        "colab": {
          "base_uri": "https://localhost:8080/"
        },
        "id": "yxKZx1xfjCEa",
        "outputId": "fc267594-d81b-4e49-ab94-6685b43652a9"
      },
      "source": [
        "year = input(\"Year of Birth: \")\n",
        "if not bool(year.rstrip()):\n",
        "  print(\"You need to enter a value for your year of birth.\")"
      ],
      "execution_count": 18,
      "outputs": [
        {
          "output_type": "stream",
          "text": [
            "Year of Birth:  \n",
            "You need to enter a value for your year of birth.\n"
          ],
          "name": "stdout"
        }
      ]
    },
    {
      "cell_type": "code",
      "metadata": {
        "colab": {
          "base_uri": "https://localhost:8080/",
          "height": 57
        },
        "id": "_2OxyhuejG6r",
        "outputId": "cff2a258-644f-47f7-df58-f8bba8edb406"
      },
      "source": [
        "\"    \".rstrip()"
      ],
      "execution_count": 20,
      "outputs": [
        {
          "output_type": "execute_result",
          "data": {
            "application/vnd.google.colaboratory.intrinsic+json": {
              "type": "string"
            },
            "text/plain": [
              "''"
            ]
          },
          "metadata": {
            "tags": []
          },
          "execution_count": 20
        }
      ]
    },
    {
      "cell_type": "code",
      "metadata": {
        "id": "sYYpB2LrjwfC"
      },
      "source": [
        "popcorn = \"I love popcorn!\""
      ],
      "execution_count": 24,
      "outputs": []
    },
    {
      "cell_type": "code",
      "metadata": {
        "colab": {
          "base_uri": "https://localhost:8080/"
        },
        "id": "KzgVQjOjkGOI",
        "outputId": "3602e190-0ed5-4fa5-99df-811ea89b9ef2"
      },
      "source": [
        "print(dir(popcorn))"
      ],
      "execution_count": 26,
      "outputs": [
        {
          "output_type": "stream",
          "text": [
            "['__add__', '__class__', '__contains__', '__delattr__', '__dir__', '__doc__', '__eq__', '__format__', '__ge__', '__getattribute__', '__getitem__', '__getnewargs__', '__gt__', '__hash__', '__init__', '__init_subclass__', '__iter__', '__le__', '__len__', '__lt__', '__mod__', '__mul__', '__ne__', '__new__', '__reduce__', '__reduce_ex__', '__repr__', '__rmod__', '__rmul__', '__setattr__', '__sizeof__', '__str__', '__subclasshook__', 'capitalize', 'casefold', 'center', 'count', 'encode', 'endswith', 'expandtabs', 'find', 'format', 'format_map', 'index', 'isalnum', 'isalpha', 'isascii', 'isdecimal', 'isdigit', 'isidentifier', 'islower', 'isnumeric', 'isprintable', 'isspace', 'istitle', 'isupper', 'join', 'ljust', 'lower', 'lstrip', 'maketrans', 'partition', 'replace', 'rfind', 'rindex', 'rjust', 'rpartition', 'rsplit', 'rstrip', 'split', 'splitlines', 'startswith', 'strip', 'swapcase', 'title', 'translate', 'upper', 'zfill']\n"
          ],
          "name": "stdout"
        }
      ]
    },
    {
      "cell_type": "code",
      "metadata": {
        "colab": {
          "base_uri": "https://localhost:8080/"
        },
        "id": "frNglHdKk11D",
        "outputId": "60753b55-a158-4184-f216-8882f17ceb54"
      },
      "source": [
        "help(popcorn.upper)"
      ],
      "execution_count": 28,
      "outputs": [
        {
          "output_type": "stream",
          "text": [
            "Help on built-in function upper:\n",
            "\n",
            "upper() method of builtins.str instance\n",
            "    Return a copy of the string converted to uppercase.\n",
            "\n"
          ],
          "name": "stdout"
        }
      ]
    },
    {
      "cell_type": "code",
      "metadata": {
        "colab": {
          "base_uri": "https://localhost:8080/"
        },
        "id": "zzxF9lvVk72N",
        "outputId": "845c07f1-9a04-4799-b958-d951c2f2ef93"
      },
      "source": [
        "4 + 5"
      ],
      "execution_count": 29,
      "outputs": [
        {
          "output_type": "execute_result",
          "data": {
            "text/plain": [
              "9"
            ]
          },
          "metadata": {
            "tags": []
          },
          "execution_count": 29
        }
      ]
    },
    {
      "cell_type": "code",
      "metadata": {
        "colab": {
          "base_uri": "https://localhost:8080/"
        },
        "id": "GQhb_6nllMN0",
        "outputId": "b639a52e-a7c9-4306-c943-c0dd58491ce0"
      },
      "source": [
        "eval(\"4+5\")"
      ],
      "execution_count": 30,
      "outputs": [
        {
          "output_type": "execute_result",
          "data": {
            "text/plain": [
              "9"
            ]
          },
          "metadata": {
            "tags": []
          },
          "execution_count": 30
        }
      ]
    },
    {
      "cell_type": "code",
      "metadata": {
        "colab": {
          "base_uri": "https://localhost:8080/"
        },
        "id": "CHLJkpG9lRwt",
        "outputId": "5a9a5ef8-9ef0-4bb1-b1d6-ec11723afce3"
      },
      "source": [
        "math_prob = input(\"Please type a math problem: \")\n",
        "print(eval(math_prob))"
      ],
      "execution_count": 31,
      "outputs": [
        {
          "output_type": "stream",
          "text": [
            "Please type a math problem: 7*9 / (4 +5) * 5**2\n",
            "175.0\n"
          ],
          "name": "stdout"
        }
      ]
    },
    {
      "cell_type": "code",
      "metadata": {
        "colab": {
          "base_uri": "https://localhost:8080/"
        },
        "id": "fSUaNdv6lc79",
        "outputId": "6b7a91f7-f09c-4a47-a826-b6aaedb7922e"
      },
      "source": [
        "small_program = \"\"\"print(\"Hello\"); print(\"Spam A Lot\")\"\"\"\n",
        "exec(small_program)"
      ],
      "execution_count": 33,
      "outputs": [
        {
          "output_type": "stream",
          "text": [
            "Hello\n",
            "Spam A Lot\n"
          ],
          "name": "stdout"
        }
      ]
    },
    {
      "cell_type": "code",
      "metadata": {
        "colab": {
          "base_uri": "https://localhost:8080/"
        },
        "id": "FwLe82dAlz7N",
        "outputId": "f08bdb2b-0cea-4f87-c18e-48a1d222ae90"
      },
      "source": [
        "small_program = input(\"Please enter a small program: \")\n",
        "print(exec(small_program))"
      ],
      "execution_count": 34,
      "outputs": [
        {
          "output_type": "stream",
          "text": [
            "Please enter a small program: print(\"Help\" * 23)\n",
            "HelpHelpHelpHelpHelpHelpHelpHelpHelpHelpHelpHelpHelpHelpHelpHelpHelpHelpHelpHelpHelpHelpHelp\n",
            "None\n"
          ],
          "name": "stdout"
        }
      ]
    },
    {
      "cell_type": "code",
      "metadata": {
        "colab": {
          "base_uri": "https://localhost:8080/"
        },
        "id": "XXGNlV3mmDQp",
        "outputId": "84f0a524-5ddb-4717-9a20-5dabb2eb6243"
      },
      "source": [
        "a_sentence = \"Here is a long sentence!\" # Count Characters\n",
        "# How many characters are there is this sentence?\n",
        "len(a_sentence)"
      ],
      "execution_count": 35,
      "outputs": [
        {
          "output_type": "execute_result",
          "data": {
            "text/plain": [
              "24"
            ]
          },
          "metadata": {
            "tags": []
          },
          "execution_count": 35
        }
      ]
    },
    {
      "cell_type": "code",
      "metadata": {
        "colab": {
          "base_uri": "https://localhost:8080/"
        },
        "id": "MzG6fPKSmmLx",
        "outputId": "c065af8b-b762-4f70-bd8c-2e39952dae71"
      },
      "source": [
        "name = input(\"Please type your name: \")\n",
        "# Cleaning white space from name, checking length, making it a string\n",
        "name_len = str(len(name.rstrip())) \n",
        "print(\"Your name is \" + name_len + \" characters long.\")"
      ],
      "execution_count": 37,
      "outputs": [
        {
          "output_type": "stream",
          "text": [
            "Please type your name: Markum            \n",
            "Your name is 6 characters long.\n"
          ],
          "name": "stdout"
        }
      ]
    },
    {
      "cell_type": "code",
      "metadata": {
        "colab": {
          "base_uri": "https://localhost:8080/"
        },
        "id": "zOGjPu7Um25i",
        "outputId": "775bde31-7867-41cf-c67b-3a36fee52a16"
      },
      "source": [
        "creature_list = [\"unicorn\", \"cyclops\", \"fairy\", \"elf\", \"dragon\", \"troll\"]\n",
        "print(len(creature_list))"
      ],
      "execution_count": 38,
      "outputs": [
        {
          "output_type": "stream",
          "text": [
            "6\n"
          ],
          "name": "stdout"
        }
      ]
    },
    {
      "cell_type": "code",
      "metadata": {
        "colab": {
          "base_uri": "https://localhost:8080/"
        },
        "id": "LK7LkaiKnU5b",
        "outputId": "97ff8f5b-e2c9-4a4c-d2fb-040714a0c046"
      },
      "source": [
        "for creature in creature_list: # Looping through creature in the creature list\n",
        "  creature_length = len(creature) # Finding the length of the creature\n",
        "  print(f\"{creature} is {creature_length} characters long.\") # Printing the information"
      ],
      "execution_count": 39,
      "outputs": [
        {
          "output_type": "stream",
          "text": [
            "unicorn is 7 characters long.\n",
            "cyclops is 7 characters long.\n",
            "fairy is 5 characters long.\n",
            "elf is 3 characters long.\n",
            "dragon is 6 characters long.\n",
            "troll is 5 characters long.\n"
          ],
          "name": "stdout"
        }
      ]
    },
    {
      "cell_type": "code",
      "metadata": {
        "colab": {
          "base_uri": "https://localhost:8080/"
        },
        "id": "zseUNSaHn6kA",
        "outputId": "f94ab410-3f03-4326-dee0-df736c09d69a"
      },
      "source": [
        "nums = [1,2,3,4,5,43,5,3,5,6,5,6,454,6788,444444,5678]\n",
        "print(\"Max: \", max(nums))\n",
        "print(\"Min: \", min(nums))"
      ],
      "execution_count": 44,
      "outputs": [
        {
          "output_type": "stream",
          "text": [
            "Max:  444444\n",
            "Min:  1\n"
          ],
          "name": "stdout"
        }
      ]
    },
    {
      "cell_type": "code",
      "metadata": {
        "colab": {
          "base_uri": "https://localhost:8080/"
        },
        "id": "mPrG9z1potdI",
        "outputId": "c7bfc01b-5ce5-4c35-a6b5-105730784110"
      },
      "source": [
        "guess_this_number = 61\n",
        "player_guesses = [12, 14, 4, 45]\n",
        "if max(player_guesses) > guess_this_number:\n",
        "  print(\"YOU all lose\")\n",
        "else:\n",
        "  print(\"You win!\")"
      ],
      "execution_count": 46,
      "outputs": [
        {
          "output_type": "stream",
          "text": [
            "You win!\n"
          ],
          "name": "stdout"
        }
      ]
    },
    {
      "cell_type": "code",
      "metadata": {
        "colab": {
          "base_uri": "https://localhost:8080/"
        },
        "id": "Q1C9mtEXpVMs",
        "outputId": "440b648f-b1f2-4810-d375-6aa4b101582e"
      },
      "source": [
        "list(range(0, 5)) # start, ends [0,5)"
      ],
      "execution_count": 48,
      "outputs": [
        {
          "output_type": "execute_result",
          "data": {
            "text/plain": [
              "[0, 1, 2, 3, 4]"
            ]
          },
          "metadata": {
            "tags": []
          },
          "execution_count": 48
        }
      ]
    },
    {
      "cell_type": "code",
      "metadata": {
        "colab": {
          "base_uri": "https://localhost:8080/"
        },
        "id": "aBO-0y-9phmA",
        "outputId": "7fc2a6bc-ea01-4a2b-990c-aa3620e57cb6"
      },
      "source": [
        "print(list(range(0,201, 2))) # start, end, by"
      ],
      "execution_count": 56,
      "outputs": [
        {
          "output_type": "stream",
          "text": [
            "[0, 2, 4, 6, 8, 10, 12, 14, 16, 18, 20, 22, 24, 26, 28, 30, 32, 34, 36, 38, 40, 42, 44, 46, 48, 50, 52, 54, 56, 58, 60, 62, 64, 66, 68, 70, 72, 74, 76, 78, 80, 82, 84, 86, 88, 90, 92, 94, 96, 98, 100, 102, 104, 106, 108, 110, 112, 114, 116, 118, 120, 122, 124, 126, 128, 130, 132, 134, 136, 138, 140, 142, 144, 146, 148, 150, 152, 154, 156, 158, 160, 162, 164, 166, 168, 170, 172, 174, 176, 178, 180, 182, 184, 186, 188, 190, 192, 194, 196, 198, 200]\n"
          ],
          "name": "stdout"
        }
      ]
    },
    {
      "cell_type": "code",
      "metadata": {
        "colab": {
          "base_uri": "https://localhost:8080/"
        },
        "id": "wumBpfL8pwFO",
        "outputId": "be837c11-91ee-47b9-f051-cd6dd2588601"
      },
      "source": [
        "print(list(range(200, -1, -2))) # start, end, by"
      ],
      "execution_count": 58,
      "outputs": [
        {
          "output_type": "stream",
          "text": [
            "[200, 198, 196, 194, 192, 190, 188, 186, 184, 182, 180, 178, 176, 174, 172, 170, 168, 166, 164, 162, 160, 158, 156, 154, 152, 150, 148, 146, 144, 142, 140, 138, 136, 134, 132, 130, 128, 126, 124, 122, 120, 118, 116, 114, 112, 110, 108, 106, 104, 102, 100, 98, 96, 94, 92, 90, 88, 86, 84, 82, 80, 78, 76, 74, 72, 70, 68, 66, 64, 62, 60, 58, 56, 54, 52, 50, 48, 46, 44, 42, 40, 38, 36, 34, 32, 30, 28, 26, 24, 22, 20, 18, 16, 14, 12, 10, 8, 6, 4, 2, 0]\n"
          ],
          "name": "stdout"
        }
      ]
    },
    {
      "cell_type": "code",
      "metadata": {
        "colab": {
          "base_uri": "https://localhost:8080/"
        },
        "id": "PAKKEytnqKam",
        "outputId": "89b1eb00-b8c9-454b-877b-d00034aa7311"
      },
      "source": [
        "sum([1,2,3,4,5,6])"
      ],
      "execution_count": 59,
      "outputs": [
        {
          "output_type": "execute_result",
          "data": {
            "text/plain": [
              "21"
            ]
          },
          "metadata": {
            "tags": []
          },
          "execution_count": 59
        }
      ]
    },
    {
      "cell_type": "code",
      "metadata": {
        "colab": {
          "base_uri": "https://localhost:8080/"
        },
        "id": "-1RzYpECqark",
        "outputId": "34fa5da7-4a73-494c-c6fe-ce967c18ff1d"
      },
      "source": [
        "sum(range(0, 301, 3))"
      ],
      "execution_count": 61,
      "outputs": [
        {
          "output_type": "execute_result",
          "data": {
            "text/plain": [
              "15150"
            ]
          },
          "metadata": {
            "tags": []
          },
          "execution_count": 61
        }
      ]
    },
    {
      "cell_type": "code",
      "metadata": {
        "colab": {
          "base_uri": "https://localhost:8080/",
          "height": 188
        },
        "id": "4k2oQVu6qehr",
        "outputId": "dcf96395-024a-4095-b555-399ecd7032e5"
      },
      "source": [
        "sum([\"here\", \"is\", \"string\"])"
      ],
      "execution_count": 62,
      "outputs": [
        {
          "output_type": "error",
          "ename": "TypeError",
          "evalue": "ignored",
          "traceback": [
            "\u001b[0;31m---------------------------------------------------------------------------\u001b[0m",
            "\u001b[0;31mTypeError\u001b[0m                                 Traceback (most recent call last)",
            "\u001b[0;32m<ipython-input-62-e22613484658>\u001b[0m in \u001b[0;36m<module>\u001b[0;34m()\u001b[0m\n\u001b[0;32m----> 1\u001b[0;31m \u001b[0msum\u001b[0m\u001b[0;34m(\u001b[0m\u001b[0;34m[\u001b[0m\u001b[0;34m\"here\"\u001b[0m\u001b[0;34m,\u001b[0m \u001b[0;34m\"is\"\u001b[0m\u001b[0;34m,\u001b[0m \u001b[0;34m\"string\"\u001b[0m\u001b[0;34m]\u001b[0m\u001b[0;34m)\u001b[0m\u001b[0;34m\u001b[0m\u001b[0;34m\u001b[0m\u001b[0m\n\u001b[0m",
            "\u001b[0;31mTypeError\u001b[0m: unsupported operand type(s) for +: 'int' and 'str'"
          ]
        }
      ]
    },
    {
      "cell_type": "markdown",
      "metadata": {
        "id": "ZdGr3tMqq3p_"
      },
      "source": [
        "# Review\n",
        "\n",
        "- Talked about Built-In Functions\n",
        "    - int, bool, print, abs, range, max, min, len\n",
        "    - eval, input, exec"
      ]
    },
    {
      "cell_type": "code",
      "metadata": {
        "colab": {
          "base_uri": "https://localhost:8080/"
        },
        "id": "YUVGLRW5q3bK",
        "outputId": "2140c40c-bd16-42f3-f97a-ae0c19b4de6f"
      },
      "source": [
        "abs(10) + abs(-10) #20 "
      ],
      "execution_count": 63,
      "outputs": [
        {
          "output_type": "execute_result",
          "data": {
            "text/plain": [
              "20"
            ]
          },
          "metadata": {
            "tags": []
          },
          "execution_count": 63
        }
      ]
    },
    {
      "cell_type": "code",
      "metadata": {
        "colab": {
          "base_uri": "https://localhost:8080/"
        },
        "id": "EaX__DOCqoX2",
        "outputId": "083290ad-2dbf-4749-8358-8a70c450dc99"
      },
      "source": [
        "abs(-10) + -10 # 0, "
      ],
      "execution_count": 64,
      "outputs": [
        {
          "output_type": "execute_result",
          "data": {
            "text/plain": [
              "0"
            ]
          },
          "metadata": {
            "tags": []
          },
          "execution_count": 64
        }
      ]
    },
    {
      "cell_type": "markdown",
      "metadata": {
        "id": "vlhpTrEBrk73"
      },
      "source": [
        "# Question\n",
        "1. Use the `dir` and `help` functions to \"split\" a string into words \n",
        "1. then create a program to print every other word in the following string, starting with the first word (this)."
      ]
    },
    {
      "cell_type": "code",
      "metadata": {
        "colab": {
          "base_uri": "https://localhost:8080/"
        },
        "id": "iEXIA0fdrSn5",
        "outputId": "1a42bc3a-996e-4dd8-f95d-a384dcc49777"
      },
      "source": [
        "print(dir(\"this if is not are a reading very this good then way you to have hide done a it message wrong\"))"
      ],
      "execution_count": 66,
      "outputs": [
        {
          "output_type": "stream",
          "text": [
            "['__add__', '__class__', '__contains__', '__delattr__', '__dir__', '__doc__', '__eq__', '__format__', '__ge__', '__getattribute__', '__getitem__', '__getnewargs__', '__gt__', '__hash__', '__init__', '__init_subclass__', '__iter__', '__le__', '__len__', '__lt__', '__mod__', '__mul__', '__ne__', '__new__', '__reduce__', '__reduce_ex__', '__repr__', '__rmod__', '__rmul__', '__setattr__', '__sizeof__', '__str__', '__subclasshook__', 'capitalize', 'casefold', 'center', 'count', 'encode', 'endswith', 'expandtabs', 'find', 'format', 'format_map', 'index', 'isalnum', 'isalpha', 'isascii', 'isdecimal', 'isdigit', 'isidentifier', 'islower', 'isnumeric', 'isprintable', 'isspace', 'istitle', 'isupper', 'join', 'ljust', 'lower', 'lstrip', 'maketrans', 'partition', 'replace', 'rfind', 'rindex', 'rjust', 'rpartition', 'rsplit', 'rstrip', 'split', 'splitlines', 'startswith', 'strip', 'swapcase', 'title', 'translate', 'upper', 'zfill']\n"
          ],
          "name": "stdout"
        }
      ]
    },
    {
      "cell_type": "code",
      "metadata": {
        "id": "XZtuvtrGrgVu"
      },
      "source": [
        "word_list = \"this if is you not are a reading very this good then way you to have hide done a it message wrong\".split()\n"
      ],
      "execution_count": 72,
      "outputs": []
    },
    {
      "cell_type": "code",
      "metadata": {
        "colab": {
          "base_uri": "https://localhost:8080/"
        },
        "id": "vd0toBRusnel",
        "outputId": "1b6ab231-1b18-4d75-9fb3-c968ce616afe"
      },
      "source": [
        "word_list[::2] # Reading every other word in a list; One way"
      ],
      "execution_count": 73,
      "outputs": [
        {
          "output_type": "execute_result",
          "data": {
            "text/plain": [
              "['this', 'is', 'not', 'a', 'very', 'good', 'way', 'to', 'hide', 'a', 'message']"
            ]
          },
          "metadata": {
            "tags": []
          },
          "execution_count": 73
        }
      ]
    },
    {
      "cell_type": "code",
      "metadata": {
        "id": "ZxpLgsLOtsB5"
      },
      "source": [
        ""
      ],
      "execution_count": null,
      "outputs": []
    }
  ]
}