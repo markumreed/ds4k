{
  "nbformat": 4,
  "nbformat_minor": 0,
  "metadata": {
    "colab": {
      "name": "valentines_day_playground_ds4k.ipynb",
      "provenance": [],
      "authorship_tag": "ABX9TyM79alC2WT4CZt+0+8gmECs",
      "include_colab_link": true
    },
    "kernelspec": {
      "name": "python3",
      "display_name": "Python 3"
    }
  },
  "cells": [
    {
      "cell_type": "markdown",
      "metadata": {
        "id": "view-in-github",
        "colab_type": "text"
      },
      "source": [
        "<a href=\"https://colab.research.google.com/github/markumreed/ds4k/blob/master/valentines_day_playground_ds4k.ipynb\" target=\"_parent\"><img src=\"https://colab.research.google.com/assets/colab-badge.svg\" alt=\"Open In Colab\"/></a>"
      ]
    },
    {
      "cell_type": "code",
      "metadata": {
        "id": "KbmQBB3MMvSz"
      },
      "source": [
        "menu_of_love = [\"RECIPE 4 LOVE\",\n",
        "\"TABLE 4 TWO\",\n",
        "\"STIR MY HEART\",\n",
        "\"MY TREAT\",\n",
        "\"TOP CHEF\",\n",
        "\"SUGAR PIE\",\n",
        "\"SWEET LOVE\",\n",
        "\"HONEY BUN\",\n",
        "\"SPICE IT UP\",\n",
        "\"YUM YUM\"]\n",
        "\n",
        "love_forecast = [\"MELT MY ♥\",\n",
        "\"IN A FOG\",\n",
        "\"CHILL OUT\",\n",
        "\"CLOUD NINE\",\n",
        "\"HEAT WAVE\",\n",
        "\"SUN SHINE\",\n",
        "\"GET MY DRIFT\",\n",
        "\"WILD LIFE\",\n",
        "\"NATURE LOVER\",\n",
        "\"DO GOOD\"]\n",
        "\n",
        "animal_attraction = [\"COOL CAT\",\n",
        "\"PUPPY LOVE\",\n",
        "\"TAKE A WALK\",\n",
        "\"MY PET\",\n",
        "\"BEAR HUG\",\n",
        "\"TOP DOG\",\n",
        "\"URA TIGER\",\n",
        "\"GO FISH\",\n",
        "\"LOVE BIRD\",\n",
        "\"PURR FECT\"]\n",
        "\n",
        "home_and_family = [\"HOUSE PARTY\",\n",
        "\"HOME RUN\",\n",
        "\"CALL HOME\",\n",
        "\"SWEET HOME\",\n",
        "\"GO HOME\",\n",
        "\"HOME SOON\",\n",
        "\"HOME SICK\"]\n",
        "\n",
        "\n",
        "game_of_love = [\"#1 FAN\",\n",
        "\"DREAM TEAM\",\n",
        "\"FIT FOR LOVE\",\n",
        "\"LOVE LIFE\",\n",
        "\"BE A SPORT\",\n",
        "\"LOVE MY TEAM\",\n",
        "\"CHEER ME ON\",\n",
        "\"BE MY HERO\",\n",
        "\"HEART OF GOLD\",\n",
        "\"ALL-STAR\"]\n",
        "\n",
        "happily_ever_after = [\"3 WISHES\",\n",
        "\"EVER AFTER\",\n",
        "\"NEW YOU\",\n",
        "\"MAGICNEW LOVE\",\n",
        "\"DREAM\",\n",
        "\"CHARM ME\",\n",
        "\"START NOW\",\n",
        "\"IM ME\",\n",
        "\"I LOVE YOU\"]\n",
        "\n",
        "love_lessons = [\"WRITE ME\",\n",
        "\"CLASS ACT\",\n",
        "\"WHIZ KID\",\n",
        "\"WISE UP\",\n",
        "\"TEACH ME\",\n",
        "\"LOVE LETTER\",\n",
        "\"PEN PAL\",\n",
        "\"BOOK CLUB\",\n",
        "\"SCHOOL MATE\",\n",
        "\"LET’S READ\"]\n",
        "\n",
        "limitless_love = [\"LOVE 2021\",\n",
        "\"ODYSSEY\",\n",
        "\"MOON BEAM\",\n",
        "\"UR A STAR\",\n",
        "\"VENUS\",\n",
        "\"STAR DUST\",\n",
        "\"RISING STAR\",\n",
        "\"YOU & ME\",\n",
        "\"TOO SWEET\",\n",
        "\"THANK YOU\"]\n",
        "\n",
        "list_of_lists = [limitless_love, love_lessons, happily_ever_after, game_of_love,\n",
        "                 home_and_family, animal_attraction, love_forecast, menu_of_love]"
      ],
      "execution_count": 35,
      "outputs": []
    },
    {
      "cell_type": "code",
      "metadata": {
        "colab": {
          "base_uri": "https://localhost:8080/"
        },
        "id": "Mdlb0wDOT7GA",
        "outputId": "fe822a86-346b-4e95-dc7f-f00380fb8808"
      },
      "source": [
        "!pip install art"
      ],
      "execution_count": 2,
      "outputs": [
        {
          "output_type": "stream",
          "text": [
            "Collecting art\n",
            "\u001b[?25l  Downloading https://files.pythonhosted.org/packages/83/37/c28d69ba1005889e8ff9633b8e7eccaaddc03549058a51ef5f51853cf183/art-5.1-py2.py3-none-any.whl (567kB)\n",
            "\r\u001b[K     |▋                               | 10kB 14.3MB/s eta 0:00:01\r\u001b[K     |█▏                              | 20kB 9.4MB/s eta 0:00:01\r\u001b[K     |█▊                              | 30kB 7.7MB/s eta 0:00:01\r\u001b[K     |██▎                             | 40kB 7.9MB/s eta 0:00:01\r\u001b[K     |██▉                             | 51kB 4.3MB/s eta 0:00:01\r\u001b[K     |███▌                            | 61kB 4.8MB/s eta 0:00:01\r\u001b[K     |████                            | 71kB 4.9MB/s eta 0:00:01\r\u001b[K     |████▋                           | 81kB 5.4MB/s eta 0:00:01\r\u001b[K     |█████▏                          | 92kB 5.3MB/s eta 0:00:01\r\u001b[K     |█████▊                          | 102kB 4.2MB/s eta 0:00:01\r\u001b[K     |██████▍                         | 112kB 4.2MB/s eta 0:00:01\r\u001b[K     |███████                         | 122kB 4.2MB/s eta 0:00:01\r\u001b[K     |███████▌                        | 133kB 4.2MB/s eta 0:00:01\r\u001b[K     |████████                        | 143kB 4.2MB/s eta 0:00:01\r\u001b[K     |████████▋                       | 153kB 4.2MB/s eta 0:00:01\r\u001b[K     |█████████▎                      | 163kB 4.2MB/s eta 0:00:01\r\u001b[K     |█████████▉                      | 174kB 4.2MB/s eta 0:00:01\r\u001b[K     |██████████▍                     | 184kB 4.2MB/s eta 0:00:01\r\u001b[K     |███████████                     | 194kB 4.2MB/s eta 0:00:01\r\u001b[K     |███████████▌                    | 204kB 4.2MB/s eta 0:00:01\r\u001b[K     |████████████▏                   | 215kB 4.2MB/s eta 0:00:01\r\u001b[K     |████████████▊                   | 225kB 4.2MB/s eta 0:00:01\r\u001b[K     |█████████████▎                  | 235kB 4.2MB/s eta 0:00:01\r\u001b[K     |█████████████▉                  | 245kB 4.2MB/s eta 0:00:01\r\u001b[K     |██████████████▍                 | 256kB 4.2MB/s eta 0:00:01\r\u001b[K     |███████████████                 | 266kB 4.2MB/s eta 0:00:01\r\u001b[K     |███████████████▋                | 276kB 4.2MB/s eta 0:00:01\r\u001b[K     |████████████████▏               | 286kB 4.2MB/s eta 0:00:01\r\u001b[K     |████████████████▊               | 296kB 4.2MB/s eta 0:00:01\r\u001b[K     |█████████████████▎              | 307kB 4.2MB/s eta 0:00:01\r\u001b[K     |██████████████████              | 317kB 4.2MB/s eta 0:00:01\r\u001b[K     |██████████████████▌             | 327kB 4.2MB/s eta 0:00:01\r\u001b[K     |███████████████████             | 337kB 4.2MB/s eta 0:00:01\r\u001b[K     |███████████████████▋            | 348kB 4.2MB/s eta 0:00:01\r\u001b[K     |████████████████████▏           | 358kB 4.2MB/s eta 0:00:01\r\u001b[K     |████████████████████▉           | 368kB 4.2MB/s eta 0:00:01\r\u001b[K     |█████████████████████▍          | 378kB 4.2MB/s eta 0:00:01\r\u001b[K     |██████████████████████          | 389kB 4.2MB/s eta 0:00:01\r\u001b[K     |██████████████████████▌         | 399kB 4.2MB/s eta 0:00:01\r\u001b[K     |███████████████████████         | 409kB 4.2MB/s eta 0:00:01\r\u001b[K     |███████████████████████▊        | 419kB 4.2MB/s eta 0:00:01\r\u001b[K     |████████████████████████▎       | 430kB 4.2MB/s eta 0:00:01\r\u001b[K     |████████████████████████▉       | 440kB 4.2MB/s eta 0:00:01\r\u001b[K     |█████████████████████████▍      | 450kB 4.2MB/s eta 0:00:01\r\u001b[K     |██████████████████████████      | 460kB 4.2MB/s eta 0:00:01\r\u001b[K     |██████████████████████████▋     | 471kB 4.2MB/s eta 0:00:01\r\u001b[K     |███████████████████████████▏    | 481kB 4.2MB/s eta 0:00:01\r\u001b[K     |███████████████████████████▊    | 491kB 4.2MB/s eta 0:00:01\r\u001b[K     |████████████████████████████▎   | 501kB 4.2MB/s eta 0:00:01\r\u001b[K     |████████████████████████████▉   | 512kB 4.2MB/s eta 0:00:01\r\u001b[K     |█████████████████████████████▌  | 522kB 4.2MB/s eta 0:00:01\r\u001b[K     |██████████████████████████████  | 532kB 4.2MB/s eta 0:00:01\r\u001b[K     |██████████████████████████████▋ | 542kB 4.2MB/s eta 0:00:01\r\u001b[K     |███████████████████████████████▏| 552kB 4.2MB/s eta 0:00:01\r\u001b[K     |███████████████████████████████▊| 563kB 4.2MB/s eta 0:00:01\r\u001b[K     |████████████████████████████████| 573kB 4.2MB/s \n",
            "\u001b[?25hInstalling collected packages: art\n",
            "Successfully installed art-5.1\n"
          ],
          "name": "stdout"
        }
      ]
    },
    {
      "cell_type": "code",
      "metadata": {
        "id": "o4spDeLJUCti"
      },
      "source": [
        "from art import * # the * means everything!"
      ],
      "execution_count": 5,
      "outputs": []
    },
    {
      "cell_type": "code",
      "metadata": {
        "colab": {
          "base_uri": "https://localhost:8080/"
        },
        "id": "g9iO_2x9UKJi",
        "outputId": "e46b31e0-6f74-4397-ccae-6d53c3f90fc8"
      },
      "source": [
        "print(text2art(\"ANYTHING.       HERE\"))"
      ],
      "execution_count": 12,
      "outputs": [
        {
          "output_type": "stream",
          "text": [
            "    _     _   _ __   __ _____  _   _  ___  _   _   ____            _   _  _____  ____   _____ \r\n",
            "   / \\   | \\ | |\\ \\ / /|_   _|| | | ||_ _|| \\ | | / ___|          | | | || ____||  _ \\ | ____|\r\n",
            "  / _ \\  |  \\| | \\ V /   | |  | |_| | | | |  \\| || |  _           | |_| ||  _|  | |_) ||  _|  \r\n",
            " / ___ \\ | |\\  |  | |    | |  |  _  | | | | |\\  || |_| | _        |  _  || |___ |  _ < | |___ \r\n",
            "/_/   \\_\\|_| \\_|  |_|    |_|  |_| |_||___||_| \\_| \\____|(_)       |_| |_||_____||_| \\_\\|_____|\r\n",
            "                                                                                              \r\n",
            "\n"
          ],
          "name": "stdout"
        }
      ]
    },
    {
      "cell_type": "code",
      "metadata": {
        "colab": {
          "base_uri": "https://localhost:8080/"
        },
        "id": "EmK6aqZ_Uehn",
        "outputId": "dcd8b824-4c1d-42c5-c45b-7a93ae127b63"
      },
      "source": [
        "print(text2art(\"Don't    SPAM   the    Chat!\", font=\"block\", chr_ignore=True))"
      ],
      "execution_count": 16,
      "outputs": [
        {
          "output_type": "stream",
          "text": [
            "\r\n",
            " .----------------.  .----------------.  .-----------------.  .----------------.  .----------------.  .----------------.  .----------------.  .----------------.  .----------------.  .----------------.  .----------------.  .----------------.  .----------------.  .----------------.  .----------------.  .----------------.  .----------------.\r\n",
            "| .--------------. || .--------------. || .--------------. || .--------------. || .--------------. || .--------------. || .--------------. || .--------------. || .--------------. || .--------------. || .--------------. || .--------------. || .--------------. || .--------------. || .--------------. || .--------------. || .--------------. |\r\n",
            "| |  ________    | || |     ____     | || | ____  _____  | || |      _       | || |  _________   | || |    _______   | || |   ______     | || |      __      | || | ____    ____ | || |  _________   | || |  ____  ____  | || |  _________   | || |     ______   | || |  ____  ____  | || |      __      | || |  _________   | || |              | |\r\n",
            "| | |_   ___ `.  | || |   .'    `.   | || ||_   \\|_   _| | || |     | |      | || | |  _   _  |  | || |   /  ___  |  | || |  |_   __ \\   | || |     /  \\     | || ||_   \\  /   _|| || | |  _   _  |  | || | |_   ||   _| | || | |_   ___  |  | || |   .' ___  |  | || | |_   ||   _| | || |     /  \\     | || | |  _   _  |  | || |      _       | |\r\n",
            "| |   | |   `. \\ | || |  /  .--.  \\  | || |  |   \\ | |   | || |     \\_|      | || | |_/ | | \\_|  | || |  |  (__ \\_|  | || |    | |__) |  | || |    / /\\ \\    | || |  |   \\/   |  | || | |_/ | | \\_|  | || |   | |__| |   | || |   | |_  \\_|  | || |  / .'   \\_|  | || |   | |__| |   | || |    / /\\ \\    | || | |_/ | | \\_|  | || |     | |      | |\r\n",
            "| |   | |    | | | || |  | |    | |  | || |  | |\\ \\| |   | || |              | || |     | |      | || |   '.___`-.   | || |    |  ___/   | || |   / ____ \\   | || |  | |\\  /| |  | || |     | |      | || |   |  __  |   | || |   |  _|  _   | || |  | |         | || |   |  __  |   | || |   / ____ \\   | || |     | |      | || |     | |      | |\r\n",
            "| |  _| |___.' / | || |  \\  `--'  /  | || | _| |_\\   |_  | || |              | || |    _| |_     | || |  |`\\____) |  | || |   _| |_      | || | _/ /    \\ \\_ | || | _| |_\\/_| |_ | || |    _| |_     | || |  _| |  | |_  | || |  _| |___/ |  | || |  \\ `.___.'\\  | || |  _| |  | |_  | || | _/ /    \\ \\_ | || |    _| |_     | || |     | |      | |\r\n",
            "| | |________.'  | || |   `.____.'   | || ||_____|\\____| | || |              | || |   |_____|    | || |  |_______.'  | || |  |_____|     | || ||____|  |____|| || ||_____||_____|| || |   |_____|    | || | |____||____| | || | |_________|  | || |   `._____.'  | || | |____||____| | || ||____|  |____|| || |   |_____|    | || |     |_|      | |\r\n",
            "| |              | || |              | || |              | || |              | || |              | || |              | || |              | || |              | || |              | || |              | || |              | || |              | || |              | || |              | || |              | || |              | || |     (_)      | |\r\n",
            "| '--------------' || '--------------' || '--------------' || '--------------' || '--------------' || '--------------' || '--------------' || '--------------' || '--------------' || '--------------' || '--------------' || '--------------' || '--------------' || '--------------' || '--------------' || '--------------' || '--------------' |\r\n",
            " '----------------'  '----------------'  '----------------'  '----------------'  '----------------'  '----------------'  '----------------'  '----------------'  '----------------'  '----------------'  '----------------'  '----------------'  '----------------'  '----------------'  '----------------'  '----------------'  '----------------'\r\n",
            "\n"
          ],
          "name": "stdout"
        }
      ]
    },
    {
      "cell_type": "code",
      "metadata": {
        "colab": {
          "base_uri": "https://localhost:8080/",
          "height": 35
        },
        "id": "xEXt5IPdU-JY",
        "outputId": "7f29315d-7c8d-41a1-d3d4-c1ed9d2fef8f"
      },
      "source": [
        "decor(\"barcode1\")"
      ],
      "execution_count": 21,
      "outputs": [
        {
          "output_type": "execute_result",
          "data": {
            "application/vnd.google.colaboratory.intrinsic+json": {
              "type": "string"
            },
            "text/plain": [
              "'▌│█║▌║▌║ '"
            ]
          },
          "metadata": {
            "tags": []
          },
          "execution_count": 21
        }
      ]
    },
    {
      "cell_type": "code",
      "metadata": {
        "id": "ZXyot-QQVhfc"
      },
      "source": [
        "from random import choice"
      ],
      "execution_count": 34,
      "outputs": []
    },
    {
      "cell_type": "code",
      "metadata": {
        "id": "-Oc5TaM_XnFm"
      },
      "source": [
        "fruits = ['pear', 'peach', 'orange', 'apple', 'banana']"
      ],
      "execution_count": 40,
      "outputs": []
    },
    {
      "cell_type": "code",
      "metadata": {
        "id": "_bq07hJGXro5",
        "outputId": "339c1a1d-f8f4-4a55-e8e3-0ddcc21cbd35",
        "colab": {
          "base_uri": "https://localhost:8080/"
        }
      },
      "source": [
        "print(choice(fruits))"
      ],
      "execution_count": 47,
      "outputs": [
        {
          "output_type": "stream",
          "text": [
            "pear\n"
          ],
          "name": "stdout"
        }
      ]
    },
    {
      "cell_type": "code",
      "metadata": {
        "id": "xK0EFVIAYC8A",
        "outputId": "17e3c1af-6340-4f12-b07f-c58f85a6eec7",
        "colab": {
          "base_uri": "https://localhost:8080/",
          "height": 35
        }
      },
      "source": [
        "choice(choice(list_of_lists))"
      ],
      "execution_count": 58,
      "outputs": [
        {
          "output_type": "execute_result",
          "data": {
            "application/vnd.google.colaboratory.intrinsic+json": {
              "type": "string"
            },
            "text/plain": [
              "'STAR DUST'"
            ]
          },
          "metadata": {
            "tags": []
          },
          "execution_count": 58
        }
      ]
    },
    {
      "cell_type": "code",
      "metadata": {
        "id": "7aZvLVXIX0Eo",
        "outputId": "340d68c5-78d5-4b1e-dae3-fcf40c1894bf",
        "colab": {
          "base_uri": "https://localhost:8080/"
        }
      },
      "source": [
        "random_quote = choice(choice(list_of_lists))\n",
        "tprint(random_quote, \"rnd-small\")\n"
      ],
      "execution_count": 82,
      "outputs": [
        {
          "output_type": "stream",
          "text": [
            "  __ _____  ___  _____ _____    __  __  _____  __    __\r\n",
            " ((   ||   ||=|| ||_//  ||      ||\\\\|| ((   )) \\\\ /\\ //\r\n",
            "\\_))  ||   || || || \\\\  ||    _ || \\||  \\\\_//   \\V/\\V/ \r\n",
            "\n"
          ],
          "name": "stdout"
        }
      ]
    },
    {
      "cell_type": "code",
      "metadata": {
        "id": "1rhPnftUYIt5",
        "outputId": "534ad238-9aba-48b5-8adb-3a4dc970ba3f",
        "colab": {
          "base_uri": "https://localhost:8080/"
        }
      },
      "source": [
        "tprint(\"HELLO\", font=\"wiz\")"
      ],
      "execution_count": 89,
      "outputs": [
        {
          "output_type": "stream",
          "text": [
            "oo____oo_ooooooo_oo______oo_________oooo____\r\n",
            "oo____oo_oo______oo______oo_______oo____oo__\r\n",
            "oo____oo_oooo____oo______oo______oo______oo_\r\n",
            "oooooooo_oo______oo______oo______oo______oo_\r\n",
            "oo____oo_oo______oo______oo_______oo____oo__\r\n",
            "oo____oo_ooooooo_ooooooo_ooooooo____oooo____\r\n",
            "____________________________________________\r\n",
            "\n"
          ],
          "name": "stdout"
        }
      ]
    },
    {
      "cell_type": "code",
      "metadata": {
        "id": "9BqnQfF7Y1ER",
        "outputId": "4dd0a016-0816-438c-cf36-89e170bac089",
        "colab": {
          "base_uri": "https://localhost:8080/"
        }
      },
      "source": [
        "aprint(\"innocent face\")"
      ],
      "execution_count": 90,
      "outputs": [
        {
          "output_type": "stream",
          "text": [
            "ʘ‿ʘ \n"
          ],
          "name": "stdout"
        }
      ]
    },
    {
      "cell_type": "code",
      "metadata": {
        "id": "4Ll0QFspaGBr",
        "outputId": "3622ff87-517a-4eae-bf19-37aef8fa954f",
        "colab": {
          "base_uri": "https://localhost:8080/"
        }
      },
      "source": [
        "aprint(\"sad and confused\")"
      ],
      "execution_count": 94,
      "outputs": [
        {
          "output_type": "stream",
          "text": [
            "¯\\_(⊙︿⊙)_/¯ \n"
          ],
          "name": "stdout"
        }
      ]
    },
    {
      "cell_type": "code",
      "metadata": {
        "id": "CfrTMQ5faLQZ",
        "outputId": "7e285140-aae2-4ff9-9ed6-ff821eed7ace",
        "colab": {
          "base_uri": "https://localhost:8080/"
        }
      },
      "source": [
        "aprint(\"ugly face\")"
      ],
      "execution_count": 97,
      "outputs": [
        {
          "output_type": "stream",
          "text": [
            "(⋟﹏⋞) \n"
          ],
          "name": "stdout"
        }
      ]
    },
    {
      "cell_type": "code",
      "metadata": {
        "id": "PpmSQX0haXPV",
        "outputId": "92e3f4cb-718d-4c47-a185-b586cbc52d1c",
        "colab": {
          "base_uri": "https://localhost:8080/"
        }
      },
      "source": [
        "aprint(\"trolling\")"
      ],
      "execution_count": 98,
      "outputs": [
        {
          "output_type": "stream",
          "text": [
            "༼∵༽ ༼⍨༽ ༼⍢༽ ༼⍤༽ \n"
          ],
          "name": "stdout"
        }
      ]
    },
    {
      "cell_type": "code",
      "metadata": {
        "id": "x3Ua-34raeWl",
        "outputId": "3625c75a-6cb2-4956-aeb8-9eee778c239f",
        "colab": {
          "base_uri": "https://localhost:8080/"
        }
      },
      "source": [
        "aprint(\"angry troll\")"
      ],
      "execution_count": 99,
      "outputs": [
        {
          "output_type": "stream",
          "text": [
            "ヽ༼ ಠ益ಠ ༽ﾉ \n"
          ],
          "name": "stdout"
        }
      ]
    },
    {
      "cell_type": "code",
      "metadata": {
        "id": "GtPs4C83agtl",
        "outputId": "a26d22c9-9a1e-4587-c129-c8eebf562603",
        "colab": {
          "base_uri": "https://localhost:8080/"
        }
      },
      "source": [
        "aprint(\"stranger danger\")"
      ],
      "execution_count": 100,
      "outputs": [
        {
          "output_type": "stream",
          "text": [
            "(づ｡◕‿‿◕｡)づ \n"
          ],
          "name": "stdout"
        }
      ]
    },
    {
      "cell_type": "code",
      "metadata": {
        "id": "J8GjJdaBakE7",
        "outputId": "6a09eb6d-8664-4e4d-b7dd-272cf9fda5f4",
        "colab": {
          "base_uri": "https://localhost:8080/"
        }
      },
      "source": [
        "aprint(\"ghost\")"
      ],
      "execution_count": 101,
      "outputs": [
        {
          "output_type": "stream",
          "text": [
            "‹’’›(Ͼ˳Ͽ)‹’’› \n"
          ],
          "name": "stdout"
        }
      ]
    },
    {
      "cell_type": "code",
      "metadata": {
        "id": "zagWUFZ0amg1",
        "outputId": "9f27778f-7d9b-4680-f575-7a0070615b34",
        "colab": {
          "base_uri": "https://localhost:8080/"
        }
      },
      "source": [
        "aprint(\"flip friend\")"
      ],
      "execution_count": 102,
      "outputs": [
        {
          "output_type": "stream",
          "text": [
            "(ノಠ ∩ಠ)ノ彡( \\o°o)\\ \n"
          ],
          "name": "stdout"
        }
      ]
    },
    {
      "cell_type": "code",
      "metadata": {
        "id": "lP6M2RTMaown",
        "outputId": "6feb8be1-18ed-4bbc-d2fb-71fcebf901da",
        "colab": {
          "base_uri": "https://localhost:8080/"
        }
      },
      "source": [
        "aprint(\"sleep7\") # Fuzzy logic"
      ],
      "execution_count": 104,
      "outputs": [
        {
          "output_type": "stream",
          "text": [
            "눈_눈 \n"
          ],
          "name": "stdout"
        }
      ]
    },
    {
      "cell_type": "code",
      "metadata": {
        "id": "E90bVM04arAw",
        "outputId": "daa43909-41a4-4aeb-d5e5-c4793174d807",
        "colab": {
          "base_uri": "https://localhost:8080/"
        }
      },
      "source": [
        "aprint(\"kissy\")"
      ],
      "execution_count": 110,
      "outputs": [
        {
          "output_type": "stream",
          "text": [
            "(o'3'o) \n"
          ],
          "name": "stdout"
        }
      ]
    },
    {
      "cell_type": "code",
      "metadata": {
        "id": "1QAJMWHiayiV",
        "outputId": "e46c6bfc-bac2-4d5a-fcd0-797814d06bc9",
        "colab": {
          "base_uri": "https://localhost:8080/"
        }
      },
      "source": [
        "aprint(\"kissing\")"
      ],
      "execution_count": 112,
      "outputs": [
        {
          "output_type": "stream",
          "text": [
            "( ˘ ³˘)♥  \n"
          ],
          "name": "stdout"
        }
      ]
    },
    {
      "cell_type": "code",
      "metadata": {
        "id": "keqHvaXba8tw",
        "outputId": "498bbf53-bd3f-4a24-eb77-f7a7573dcd1d",
        "colab": {
          "base_uri": "https://localhost:8080/"
        }
      },
      "source": [
        "aprint(\"dance\")"
      ],
      "execution_count": 114,
      "outputs": [
        {
          "output_type": "stream",
          "text": [
            "(>'-')> <('_'<) ^('_')\\- \\m/(-_-)\\m/ <( '-')> \\_( .\")> <(._.)-` \n"
          ],
          "name": "stdout"
        }
      ]
    },
    {
      "cell_type": "code",
      "metadata": {
        "id": "28clac0vbANc",
        "outputId": "9dc69850-fb30-44a8-a018-8dcffb1d4eb8",
        "colab": {
          "base_uri": "https://localhost:8080/"
        }
      },
      "source": [
        "aprint(\"opera\")"
      ],
      "execution_count": 115,
      "outputs": [
        {
          "output_type": "stream",
          "text": [
            "ヾ(´〇`)ﾉ♪♪♪ \n"
          ],
          "name": "stdout"
        }
      ]
    },
    {
      "cell_type": "code",
      "metadata": {
        "id": "bxfHjqlXbECo",
        "outputId": "16df6364-d818-4c3d-b287-7eae0d910aa8",
        "colab": {
          "base_uri": "https://localhost:8080/"
        }
      },
      "source": [
        "aprint(\"winnie the pooh\")"
      ],
      "execution_count": 116,
      "outputs": [
        {
          "output_type": "stream",
          "text": [
            "ʕ •́؈•̀) \n"
          ],
          "name": "stdout"
        }
      ]
    },
    {
      "cell_type": "code",
      "metadata": {
        "id": "fJPgEzP2bHer",
        "outputId": "e0b7ae2d-04fe-41f1-9f78-2f5877bf8d76",
        "colab": {
          "base_uri": "https://localhost:8080/"
        }
      },
      "source": [
        "aprint(\"wizard\")"
      ],
      "execution_count": 117,
      "outputs": [
        {
          "output_type": "stream",
          "text": [
            "(∩ ͡° ͜ʖ ͡°)⊃━☆ﾟ. * \n"
          ],
          "name": "stdout"
        }
      ]
    },
    {
      "cell_type": "code",
      "metadata": {
        "id": "l61VPP4sbQwp",
        "outputId": "5ce4117c-e29e-4298-c498-11b5c9035571",
        "colab": {
          "base_uri": "https://localhost:8080/"
        }
      },
      "source": [
        "aprint(\"bear\")"
      ],
      "execution_count": 118,
      "outputs": [
        {
          "output_type": "stream",
          "text": [
            "ʕ•ᴥ•ʔ \n"
          ],
          "name": "stdout"
        }
      ]
    },
    {
      "cell_type": "code",
      "metadata": {
        "id": "XhNZyRMObTq3",
        "outputId": "2de080e9-2aa0-48e7-f9f6-00233702970a",
        "colab": {
          "base_uri": "https://localhost:8080/"
        }
      },
      "source": [
        "aprint(\"dab\")"
      ],
      "execution_count": 119,
      "outputs": [
        {
          "output_type": "stream",
          "text": [
            "ヽ( •_)ᕗ \n"
          ],
          "name": "stdout"
        }
      ]
    },
    {
      "cell_type": "code",
      "metadata": {
        "id": "z6saDIDbbVIE",
        "outputId": "19a36963-7947-47a8-90ef-b9930c8766f7",
        "colab": {
          "base_uri": "https://localhost:8080/"
        }
      },
      "source": [
        "aprint(\"judgemental\")"
      ],
      "execution_count": 120,
      "outputs": [
        {
          "output_type": "stream",
          "text": [
            "\\{ಠʖಠ\\} \n"
          ],
          "name": "stdout"
        }
      ]
    },
    {
      "cell_type": "code",
      "metadata": {
        "id": "gKI-JmqHbXw6",
        "outputId": "83d6bc93-61ae-47ad-bc68-7f644bca5c15",
        "colab": {
          "base_uri": "https://localhost:8080/"
        }
      },
      "source": [
        "print(art(\"coffee\"))"
      ],
      "execution_count": 122,
      "outputs": [
        {
          "output_type": "stream",
          "text": [
            "c[_] \n"
          ],
          "name": "stdout"
        }
      ]
    },
    {
      "cell_type": "code",
      "metadata": {
        "id": "7Wv-UYgVbg2t",
        "outputId": "ba8fd25b-fdaf-4834-f8fa-77ab42ca0052",
        "colab": {
          "base_uri": "https://localhost:8080/"
        }
      },
      "source": [
        "print(art(\"heart\"))"
      ],
      "execution_count": 125,
      "outputs": [
        {
          "output_type": "stream",
          "text": [
            "»-(¯`·.·´¯)-> \n"
          ],
          "name": "stdout"
        }
      ]
    },
    {
      "cell_type": "code",
      "metadata": {
        "id": "TO64xwC5blMz",
        "outputId": "bb9818a2-fdbf-44b2-87b9-5dd4d71d80fb",
        "colab": {
          "base_uri": "https://localhost:8080/"
        }
      },
      "source": [
        "print(art(\"cat\"))"
      ],
      "execution_count": 133,
      "outputs": [
        {
          "output_type": "stream",
          "text": [
            "`o##o> \n"
          ],
          "name": "stdout"
        }
      ]
    },
    {
      "cell_type": "code",
      "metadata": {
        "id": "yS934XKLbsmp",
        "outputId": "f59d47ee-827b-47db-df2d-d629fe9f59e0",
        "colab": {
          "base_uri": "https://localhost:8080/"
        }
      },
      "source": [
        "\"Make me a Tic Tac Toe Board\""
      ],
      "execution_count": 135,
      "outputs": [
        {
          "output_type": "stream",
          "text": [
            "||\n"
          ],
          "name": "stdout"
        }
      ]
    },
    {
      "cell_type": "code",
      "metadata": {
        "id": "tek6tFaJc0yz",
        "outputId": "f569769b-1f20-4b6d-d775-8f919e4d60a3",
        "colab": {
          "base_uri": "https://localhost:8080/"
        }
      },
      "source": [
        "print(\"\"\"\n",
        "  |   |\n",
        "--+---+--\n",
        "  |   |\n",
        "--+---+--\n",
        "  |   |\n",
        "\"\"\")"
      ],
      "execution_count": 143,
      "outputs": [
        {
          "output_type": "stream",
          "text": [
            "\n",
            "  |   |\n",
            "--+---+--\n",
            "  |   |\n",
            "--+---+--\n",
            "  |   |\n",
            "\n"
          ],
          "name": "stdout"
        }
      ]
    },
    {
      "cell_type": "code",
      "metadata": {
        "id": "UBiv1vZodO0s",
        "outputId": "e877e1af-8797-4186-dfc6-374ccc436eef",
        "colab": {
          "base_uri": "https://localhost:8080/"
        }
      },
      "source": [
        "print(\"\"\"\n",
        "  _____     ____\n",
        " /      \\  |  o | \n",
        "|        |/ ___\\| \n",
        "|_________/     \n",
        "|_|_| |_|_|\n",
        "\"\"\")"
      ],
      "execution_count": 144,
      "outputs": [
        {
          "output_type": "stream",
          "text": [
            "\n",
            "  _____     ____\n",
            " /      \\  |  o | \n",
            "|        |/ ___\\| \n",
            "|_________/     \n",
            "|_|_| |_|_|\n",
            "\n"
          ],
          "name": "stdout"
        }
      ]
    },
    {
      "cell_type": "code",
      "metadata": {
        "id": "1puogv9SeA3l",
        "outputId": "63b8c783-65a2-4564-c283-71da3e80ba8a",
        "colab": {
          "base_uri": "https://localhost:8080/"
        }
      },
      "source": [
        "print(\"\"\"\n",
        "^..^      /\n",
        "/_/\\_____/\n",
        "   /\\   /\\\n",
        "  /  \\ /  \\\n",
        "\"\"\")"
      ],
      "execution_count": 145,
      "outputs": [
        {
          "output_type": "stream",
          "text": [
            "\n",
            "^..^      /\n",
            "/_/\\_____/\n",
            "   /\\   /  /  \\ /  \n"
          ],
          "name": "stdout"
        }
      ]
    },
    {
      "cell_type": "code",
      "metadata": {
        "id": "YcsQh6GLeJuE"
      },
      "source": [
        "'ASCII'"
      ],
      "execution_count": null,
      "outputs": []
    }
  ]
}