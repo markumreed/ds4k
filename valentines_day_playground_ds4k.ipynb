{
  "nbformat": 4,
  "nbformat_minor": 0,
  "metadata": {
    "colab": {
      "name": "valentines_day_playground_ds4k.ipynb",
      "provenance": [],
      "authorship_tag": "ABX9TyPOrgbljPRWuOY0c5Ad3P1y",
      "include_colab_link": true
    },
    "kernelspec": {
      "name": "python3",
      "display_name": "Python 3"
    }
  },
  "cells": [
    {
      "cell_type": "markdown",
      "metadata": {
        "id": "view-in-github",
        "colab_type": "text"
      },
      "source": [
        "<a href=\"https://colab.research.google.com/github/markumreed/ds4k/blob/master/valentines_day_playground_ds4k.ipynb\" target=\"_parent\"><img src=\"https://colab.research.google.com/assets/colab-badge.svg\" alt=\"Open In Colab\"/></a>"
      ]
    },
    {
      "cell_type": "code",
      "metadata": {
        "id": "KbmQBB3MMvSz"
      },
      "source": [
        "menu_of_love = [\"RECIPE 4 LOVE\",\n",
        "\"TABLE 4 TWO\",\n",
        "\"STIR MY HEART\",\n",
        "\"MY TREAT\",\n",
        "\"TOP CHEF\",\n",
        "\"SUGAR PIE\",\n",
        "\"SWEET LOVE\",\n",
        "\"HONEY BUN\",\n",
        "\"SPICE IT UP\",\n",
        "\"YUM YUM\"]\n",
        "\n",
        "love_forecast = [\"MELT MY ♥\",\n",
        "\"IN A FOG\",\n",
        "\"CHILL OUT\",\n",
        "\"CLOUD NINE\",\n",
        "\"HEAT WAVE\",\n",
        "\"SUN SHINE\",\n",
        "\"GET MY DRIFT\",\n",
        "\"WILD LIFE\",\n",
        "\"NATURE LOVER\",\n",
        "\"DO GOOD\"]\n",
        "\n",
        "animal_attraction = [\"COOL CAT\",\n",
        "\"PUPPY LOVE\",\n",
        "\"TAKE A WALK\",\n",
        "\"MY PET\",\n",
        "\"BEAR HUG\",\n",
        "\"TOP DOG\",\n",
        "\"URA TIGER\",\n",
        "\"GO FISH\",\n",
        "\"LOVE BIRD\",\n",
        "\"PURR FECT\"]\n",
        "\n",
        "home_and_family = [\"HOUSE PARTY\",\n",
        "\"HOME RUN\",\n",
        "\"CALL HOME\",\n",
        "\"SWEET HOME\",\n",
        "\"GO HOME\",\n",
        "\"HOME SOON\",\n",
        "\"HOME SICK\"]\n",
        "\n",
        "\n",
        "game_of_love = [\"#1 FAN\",\n",
        "\"DREAM TEAM\",\n",
        "\"FIT FOR LOVE\",\n",
        "\"LOVE LIFE\",\n",
        "\"BE A SPORT\",\n",
        "\"LOVE MY TEAM\",\n",
        "\"CHEER ME ON\",\n",
        "\"BE MY HERO\",\n",
        "\"HEART OF GOLD\",\n",
        "\"ALL-STAR\"]\n",
        "\n",
        "happily_ever_after = [\"3 WISHES\",\n",
        "\"EVER AFTER\",\n",
        "\"NEW YOU\",\n",
        "\"MAGICNEW LOVE\",\n",
        "\"DREAM\",\n",
        "\"CHARM ME\",\n",
        "\"START NOW\",\n",
        "\"IM ME\",\n",
        "\"I LOVE YOU\"]\n",
        "\n",
        "love_lessons = [\"WRITE ME\",\n",
        "\"CLASS ACT\",\n",
        "\"WHIZ KID\",\n",
        "\"WISE UP\",\n",
        "\"TEACH ME\",\n",
        "\"LOVE LETTER\",\n",
        "\"PEN PAL\",\n",
        "\"BOOK CLUB\",\n",
        "\"SCHOOL MATE\",\n",
        "\"LET’S READ\"]\n",
        "\n",
        "limitless_love = [\"LOVE 2021\",\n",
        "\"ODYSSEY\",\n",
        "\"MOON BEAM\",\n",
        "\"UR A STAR\",\n",
        "\"VENUS\",\n",
        "\"STAR DUST\",\n",
        "\"RISING STAR\",\n",
        "\"YOU & ME\",\n",
        "\"TOO SWEET\",\n",
        "\"THANK YOU\"]\n",
        "\n",
        "list_of_lists = [limitless_love, love_lessons, happily_ever_after, game_of_love,\n",
        "                 home_and_family, animal_attraction, love_forecast, menu_of_love]"
      ],
      "execution_count": 1,
      "outputs": []
    },
    {
      "cell_type": "code",
      "metadata": {
        "id": "Mdlb0wDOT7GA",
        "outputId": "fe822a86-346b-4e95-dc7f-f00380fb8808",
        "colab": {
          "base_uri": "https://localhost:8080/"
        }
      },
      "source": [
        "!pip install art"
      ],
      "execution_count": 2,
      "outputs": [
        {
          "output_type": "stream",
          "text": [
            "Collecting art\n",
            "\u001b[?25l  Downloading https://files.pythonhosted.org/packages/83/37/c28d69ba1005889e8ff9633b8e7eccaaddc03549058a51ef5f51853cf183/art-5.1-py2.py3-none-any.whl (567kB)\n",
            "\r\u001b[K     |▋                               | 10kB 14.3MB/s eta 0:00:01\r\u001b[K     |█▏                              | 20kB 9.4MB/s eta 0:00:01\r\u001b[K     |█▊                              | 30kB 7.7MB/s eta 0:00:01\r\u001b[K     |██▎                             | 40kB 7.9MB/s eta 0:00:01\r\u001b[K     |██▉                             | 51kB 4.3MB/s eta 0:00:01\r\u001b[K     |███▌                            | 61kB 4.8MB/s eta 0:00:01\r\u001b[K     |████                            | 71kB 4.9MB/s eta 0:00:01\r\u001b[K     |████▋                           | 81kB 5.4MB/s eta 0:00:01\r\u001b[K     |█████▏                          | 92kB 5.3MB/s eta 0:00:01\r\u001b[K     |█████▊                          | 102kB 4.2MB/s eta 0:00:01\r\u001b[K     |██████▍                         | 112kB 4.2MB/s eta 0:00:01\r\u001b[K     |███████                         | 122kB 4.2MB/s eta 0:00:01\r\u001b[K     |███████▌                        | 133kB 4.2MB/s eta 0:00:01\r\u001b[K     |████████                        | 143kB 4.2MB/s eta 0:00:01\r\u001b[K     |████████▋                       | 153kB 4.2MB/s eta 0:00:01\r\u001b[K     |█████████▎                      | 163kB 4.2MB/s eta 0:00:01\r\u001b[K     |█████████▉                      | 174kB 4.2MB/s eta 0:00:01\r\u001b[K     |██████████▍                     | 184kB 4.2MB/s eta 0:00:01\r\u001b[K     |███████████                     | 194kB 4.2MB/s eta 0:00:01\r\u001b[K     |███████████▌                    | 204kB 4.2MB/s eta 0:00:01\r\u001b[K     |████████████▏                   | 215kB 4.2MB/s eta 0:00:01\r\u001b[K     |████████████▊                   | 225kB 4.2MB/s eta 0:00:01\r\u001b[K     |█████████████▎                  | 235kB 4.2MB/s eta 0:00:01\r\u001b[K     |█████████████▉                  | 245kB 4.2MB/s eta 0:00:01\r\u001b[K     |██████████████▍                 | 256kB 4.2MB/s eta 0:00:01\r\u001b[K     |███████████████                 | 266kB 4.2MB/s eta 0:00:01\r\u001b[K     |███████████████▋                | 276kB 4.2MB/s eta 0:00:01\r\u001b[K     |████████████████▏               | 286kB 4.2MB/s eta 0:00:01\r\u001b[K     |████████████████▊               | 296kB 4.2MB/s eta 0:00:01\r\u001b[K     |█████████████████▎              | 307kB 4.2MB/s eta 0:00:01\r\u001b[K     |██████████████████              | 317kB 4.2MB/s eta 0:00:01\r\u001b[K     |██████████████████▌             | 327kB 4.2MB/s eta 0:00:01\r\u001b[K     |███████████████████             | 337kB 4.2MB/s eta 0:00:01\r\u001b[K     |███████████████████▋            | 348kB 4.2MB/s eta 0:00:01\r\u001b[K     |████████████████████▏           | 358kB 4.2MB/s eta 0:00:01\r\u001b[K     |████████████████████▉           | 368kB 4.2MB/s eta 0:00:01\r\u001b[K     |█████████████████████▍          | 378kB 4.2MB/s eta 0:00:01\r\u001b[K     |██████████████████████          | 389kB 4.2MB/s eta 0:00:01\r\u001b[K     |██████████████████████▌         | 399kB 4.2MB/s eta 0:00:01\r\u001b[K     |███████████████████████         | 409kB 4.2MB/s eta 0:00:01\r\u001b[K     |███████████████████████▊        | 419kB 4.2MB/s eta 0:00:01\r\u001b[K     |████████████████████████▎       | 430kB 4.2MB/s eta 0:00:01\r\u001b[K     |████████████████████████▉       | 440kB 4.2MB/s eta 0:00:01\r\u001b[K     |█████████████████████████▍      | 450kB 4.2MB/s eta 0:00:01\r\u001b[K     |██████████████████████████      | 460kB 4.2MB/s eta 0:00:01\r\u001b[K     |██████████████████████████▋     | 471kB 4.2MB/s eta 0:00:01\r\u001b[K     |███████████████████████████▏    | 481kB 4.2MB/s eta 0:00:01\r\u001b[K     |███████████████████████████▊    | 491kB 4.2MB/s eta 0:00:01\r\u001b[K     |████████████████████████████▎   | 501kB 4.2MB/s eta 0:00:01\r\u001b[K     |████████████████████████████▉   | 512kB 4.2MB/s eta 0:00:01\r\u001b[K     |█████████████████████████████▌  | 522kB 4.2MB/s eta 0:00:01\r\u001b[K     |██████████████████████████████  | 532kB 4.2MB/s eta 0:00:01\r\u001b[K     |██████████████████████████████▋ | 542kB 4.2MB/s eta 0:00:01\r\u001b[K     |███████████████████████████████▏| 552kB 4.2MB/s eta 0:00:01\r\u001b[K     |███████████████████████████████▊| 563kB 4.2MB/s eta 0:00:01\r\u001b[K     |████████████████████████████████| 573kB 4.2MB/s \n",
            "\u001b[?25hInstalling collected packages: art\n",
            "Successfully installed art-5.1\n"
          ],
          "name": "stdout"
        }
      ]
    },
    {
      "cell_type": "code",
      "metadata": {
        "id": "o4spDeLJUCti"
      },
      "source": [
        "from art import * # the * means everything!"
      ],
      "execution_count": 5,
      "outputs": []
    },
    {
      "cell_type": "code",
      "metadata": {
        "id": "g9iO_2x9UKJi",
        "outputId": "e46b31e0-6f74-4397-ccae-6d53c3f90fc8",
        "colab": {
          "base_uri": "https://localhost:8080/"
        }
      },
      "source": [
        "print(text2art(\"ANYTHING.       HERE\"))"
      ],
      "execution_count": 12,
      "outputs": [
        {
          "output_type": "stream",
          "text": [
            "    _     _   _ __   __ _____  _   _  ___  _   _   ____            _   _  _____  ____   _____ \r\n",
            "   / \\   | \\ | |\\ \\ / /|_   _|| | | ||_ _|| \\ | | / ___|          | | | || ____||  _ \\ | ____|\r\n",
            "  / _ \\  |  \\| | \\ V /   | |  | |_| | | | |  \\| || |  _           | |_| ||  _|  | |_) ||  _|  \r\n",
            " / ___ \\ | |\\  |  | |    | |  |  _  | | | | |\\  || |_| | _        |  _  || |___ |  _ < | |___ \r\n",
            "/_/   \\_\\|_| \\_|  |_|    |_|  |_| |_||___||_| \\_| \\____|(_)       |_| |_||_____||_| \\_\\|_____|\r\n",
            "                                                                                              \r\n",
            "\n"
          ],
          "name": "stdout"
        }
      ]
    },
    {
      "cell_type": "code",
      "metadata": {
        "id": "EmK6aqZ_Uehn",
        "outputId": "dcd8b824-4c1d-42c5-c45b-7a93ae127b63",
        "colab": {
          "base_uri": "https://localhost:8080/"
        }
      },
      "source": [
        "print(text2art(\"Don't    SPAM   the    Chat!\", font=\"block\", chr_ignore=True))"
      ],
      "execution_count": 16,
      "outputs": [
        {
          "output_type": "stream",
          "text": [
            "\r\n",
            " .----------------.  .----------------.  .-----------------.  .----------------.  .----------------.  .----------------.  .----------------.  .----------------.  .----------------.  .----------------.  .----------------.  .----------------.  .----------------.  .----------------.  .----------------.  .----------------.  .----------------.\r\n",
            "| .--------------. || .--------------. || .--------------. || .--------------. || .--------------. || .--------------. || .--------------. || .--------------. || .--------------. || .--------------. || .--------------. || .--------------. || .--------------. || .--------------. || .--------------. || .--------------. || .--------------. |\r\n",
            "| |  ________    | || |     ____     | || | ____  _____  | || |      _       | || |  _________   | || |    _______   | || |   ______     | || |      __      | || | ____    ____ | || |  _________   | || |  ____  ____  | || |  _________   | || |     ______   | || |  ____  ____  | || |      __      | || |  _________   | || |              | |\r\n",
            "| | |_   ___ `.  | || |   .'    `.   | || ||_   \\|_   _| | || |     | |      | || | |  _   _  |  | || |   /  ___  |  | || |  |_   __ \\   | || |     /  \\     | || ||_   \\  /   _|| || | |  _   _  |  | || | |_   ||   _| | || | |_   ___  |  | || |   .' ___  |  | || | |_   ||   _| | || |     /  \\     | || | |  _   _  |  | || |      _       | |\r\n",
            "| |   | |   `. \\ | || |  /  .--.  \\  | || |  |   \\ | |   | || |     \\_|      | || | |_/ | | \\_|  | || |  |  (__ \\_|  | || |    | |__) |  | || |    / /\\ \\    | || |  |   \\/   |  | || | |_/ | | \\_|  | || |   | |__| |   | || |   | |_  \\_|  | || |  / .'   \\_|  | || |   | |__| |   | || |    / /\\ \\    | || | |_/ | | \\_|  | || |     | |      | |\r\n",
            "| |   | |    | | | || |  | |    | |  | || |  | |\\ \\| |   | || |              | || |     | |      | || |   '.___`-.   | || |    |  ___/   | || |   / ____ \\   | || |  | |\\  /| |  | || |     | |      | || |   |  __  |   | || |   |  _|  _   | || |  | |         | || |   |  __  |   | || |   / ____ \\   | || |     | |      | || |     | |      | |\r\n",
            "| |  _| |___.' / | || |  \\  `--'  /  | || | _| |_\\   |_  | || |              | || |    _| |_     | || |  |`\\____) |  | || |   _| |_      | || | _/ /    \\ \\_ | || | _| |_\\/_| |_ | || |    _| |_     | || |  _| |  | |_  | || |  _| |___/ |  | || |  \\ `.___.'\\  | || |  _| |  | |_  | || | _/ /    \\ \\_ | || |    _| |_     | || |     | |      | |\r\n",
            "| | |________.'  | || |   `.____.'   | || ||_____|\\____| | || |              | || |   |_____|    | || |  |_______.'  | || |  |_____|     | || ||____|  |____|| || ||_____||_____|| || |   |_____|    | || | |____||____| | || | |_________|  | || |   `._____.'  | || | |____||____| | || ||____|  |____|| || |   |_____|    | || |     |_|      | |\r\n",
            "| |              | || |              | || |              | || |              | || |              | || |              | || |              | || |              | || |              | || |              | || |              | || |              | || |              | || |              | || |              | || |              | || |     (_)      | |\r\n",
            "| '--------------' || '--------------' || '--------------' || '--------------' || '--------------' || '--------------' || '--------------' || '--------------' || '--------------' || '--------------' || '--------------' || '--------------' || '--------------' || '--------------' || '--------------' || '--------------' || '--------------' |\r\n",
            " '----------------'  '----------------'  '----------------'  '----------------'  '----------------'  '----------------'  '----------------'  '----------------'  '----------------'  '----------------'  '----------------'  '----------------'  '----------------'  '----------------'  '----------------'  '----------------'  '----------------'\r\n",
            "\n"
          ],
          "name": "stdout"
        }
      ]
    },
    {
      "cell_type": "code",
      "metadata": {
        "id": "xEXt5IPdU-JY",
        "outputId": "7f29315d-7c8d-41a1-d3d4-c1ed9d2fef8f",
        "colab": {
          "base_uri": "https://localhost:8080/",
          "height": 35
        }
      },
      "source": [
        "decor(\"barcode1\")"
      ],
      "execution_count": 21,
      "outputs": [
        {
          "output_type": "execute_result",
          "data": {
            "application/vnd.google.colaboratory.intrinsic+json": {
              "type": "string"
            },
            "text/plain": [
              "'▌│█║▌║▌║ '"
            ]
          },
          "metadata": {
            "tags": []
          },
          "execution_count": 21
        }
      ]
    },
    {
      "cell_type": "code",
      "metadata": {
        "id": "ZXyot-QQVhfc",
        "outputId": "8a5dd428-f272-4a64-9e36-299949926b1a",
        "colab": {
          "base_uri": "https://localhost:8080/"
        }
      },
      "source": [
        "tprint(\"LOVE\", \"rnd-medium\")"
      ],
      "execution_count": 29,
      "outputs": [
        {
          "output_type": "stream",
          "text": [
            "  ##      #######  ##  ###  ####### \r\n",
            "  ##      ##   ##  ##  ###  ##      \r\n",
            "  ##      ##   ##  ##  ###  ##      \r\n",
            " ###      ##  ###  ##  ###  ####### \r\n",
            " ###      ##  ###  ## ####  ###     \r\n",
            " ###      ##  ###   #####   ###     \r\n",
            " ######   #######    ###    ####### \r\n",
            "                                    \r\n",
            "\n"
          ],
          "name": "stdout"
        }
      ]
    },
    {
      "cell_type": "code",
      "metadata": {
        "id": "vVIQOVLQVxLq"
      },
      "source": [
        ""
      ],
      "execution_count": null,
      "outputs": []
    }
  ]
}