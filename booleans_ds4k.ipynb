{
  "nbformat": 4,
  "nbformat_minor": 0,
  "metadata": {
    "colab": {
      "name": "booleans_ds4k.ipynb",
      "provenance": [],
      "authorship_tag": "ABX9TyN1Pm1PX7/ndm8gdHUVUs48",
      "include_colab_link": true
    },
    "kernelspec": {
      "name": "python3",
      "display_name": "Python 3"
    }
  },
  "cells": [
    {
      "cell_type": "markdown",
      "metadata": {
        "id": "view-in-github",
        "colab_type": "text"
      },
      "source": [
        "<a href=\"https://colab.research.google.com/github/markumreed/ds4k/blob/master/booleans_ds4k.ipynb\" target=\"_parent\"><img src=\"https://colab.research.google.com/assets/colab-badge.svg\" alt=\"Open In Colab\"/></a>"
      ]
    },
    {
      "cell_type": "markdown",
      "metadata": {
        "id": "CZ_IGvKPUeLP"
      },
      "source": [
        "# Booleans\n",
        "\n",
        "$x = y$\n",
        "\n",
        "$x \\neq y$\n",
        "\n",
        "$x < y$\n",
        "\n",
        "$x > y$\n",
        "\n",
        "$x \\leq y$\n",
        "\n",
        "$x \\geq y$\n",
        "\n",
        "Evaluate to `True` or `False`\n",
        "\n",
        "`True` has a value of 1.\n",
        "`False` has a value of 0.\n",
        "\n",
        "\n",
        "\n",
        "\n"
      ]
    },
    {
      "cell_type": "code",
      "metadata": {
        "colab": {
          "base_uri": "https://localhost:8080/"
        },
        "id": "MFvqTawxUdQz",
        "outputId": "3daf6977-1582-4b09-c305-ca803b238b9a"
      },
      "source": [
        "1 > 2"
      ],
      "execution_count": 1,
      "outputs": [
        {
          "output_type": "execute_result",
          "data": {
            "text/plain": [
              "False"
            ]
          },
          "metadata": {
            "tags": []
          },
          "execution_count": 1
        }
      ]
    },
    {
      "cell_type": "code",
      "metadata": {
        "colab": {
          "base_uri": "https://localhost:8080/"
        },
        "id": "XvqmVx8nWdZu",
        "outputId": "de0d3fa0-9a77-4b14-aa2b-8dae445cd245"
      },
      "source": [
        "1 < 2"
      ],
      "execution_count": 2,
      "outputs": [
        {
          "output_type": "execute_result",
          "data": {
            "text/plain": [
              "True"
            ]
          },
          "metadata": {
            "tags": []
          },
          "execution_count": 2
        }
      ]
    },
    {
      "cell_type": "code",
      "metadata": {
        "colab": {
          "base_uri": "https://localhost:8080/",
          "height": 131
        },
        "id": "FnrE-wUsWmIb",
        "outputId": "0a6cc74a-e56f-4eb7-ac4a-f441889dfdbe"
      },
      "source": [
        "1 = 2 # = is an assignment operator"
      ],
      "execution_count": 3,
      "outputs": [
        {
          "output_type": "error",
          "ename": "SyntaxError",
          "evalue": "ignored",
          "traceback": [
            "\u001b[0;36m  File \u001b[0;32m\"<ipython-input-3-c0ab9e3898ea>\"\u001b[0;36m, line \u001b[0;32m1\u001b[0m\n\u001b[0;31m    1 = 2\u001b[0m\n\u001b[0m         ^\u001b[0m\n\u001b[0;31mSyntaxError\u001b[0m\u001b[0;31m:\u001b[0m can't assign to literal\n"
          ]
        }
      ]
    },
    {
      "cell_type": "code",
      "metadata": {
        "colab": {
          "base_uri": "https://localhost:8080/"
        },
        "id": "NTUAHUi2WpvO",
        "outputId": "3a304689-dd50-4d81-d5a1-e6081b5746a3"
      },
      "source": [
        "1 == 2 # equivalence"
      ],
      "execution_count": 4,
      "outputs": [
        {
          "output_type": "execute_result",
          "data": {
            "text/plain": [
              "False"
            ]
          },
          "metadata": {
            "tags": []
          },
          "execution_count": 4
        }
      ]
    },
    {
      "cell_type": "code",
      "metadata": {
        "colab": {
          "base_uri": "https://localhost:8080/"
        },
        "id": "ARpD5I7UWuto",
        "outputId": "9e3d31e9-b1ac-4304-d203-e8ca8fefba28"
      },
      "source": [
        "1 != 2 # Not equal to"
      ],
      "execution_count": 5,
      "outputs": [
        {
          "output_type": "execute_result",
          "data": {
            "text/plain": [
              "True"
            ]
          },
          "metadata": {
            "tags": []
          },
          "execution_count": 5
        }
      ]
    },
    {
      "cell_type": "code",
      "metadata": {
        "colab": {
          "base_uri": "https://localhost:8080/"
        },
        "id": "d1mFleRwWzUi",
        "outputId": "989e2cba-d1a8-4238-f286-24b3be5cff4a"
      },
      "source": [
        "1 <= 2"
      ],
      "execution_count": 6,
      "outputs": [
        {
          "output_type": "execute_result",
          "data": {
            "text/plain": [
              "True"
            ]
          },
          "metadata": {
            "tags": []
          },
          "execution_count": 6
        }
      ]
    },
    {
      "cell_type": "code",
      "metadata": {
        "colab": {
          "base_uri": "https://localhost:8080/"
        },
        "id": "z2dyGEiqW4s4",
        "outputId": "c868aa1b-b918-4480-ffcc-f4512908a122"
      },
      "source": [
        "1 >= 2"
      ],
      "execution_count": 7,
      "outputs": [
        {
          "output_type": "execute_result",
          "data": {
            "text/plain": [
              "False"
            ]
          },
          "metadata": {
            "tags": []
          },
          "execution_count": 7
        }
      ]
    },
    {
      "cell_type": "markdown",
      "metadata": {
        "id": "pmVfIvXHYDIq"
      },
      "source": [
        "## Boolean Driving Age Example\n",
        "\n",
        "1. Make two variables for driving age and your current age.\n",
        "1. Make an if statement that checks if you are at or above the legal age to drive. \n",
        "  - Print that they are old enough to drive\n",
        "1. Make an if statement that checks if you are under the legal age to drive. \n",
        "  - Print they are too young and say how many more years they have to wait until they are old enough to drive. "
      ]
    },
    {
      "cell_type": "code",
      "metadata": {
        "colab": {
          "base_uri": "https://localhost:8080/"
        },
        "id": "sBOFwr_wW6H0",
        "outputId": "09f1b910-c8a9-4cec-d808-3081235fb747"
      },
      "source": [
        "driving_age = eval(input(\"What is the legal drving age where you live? \"))\n",
        "your_age = eval(input(\"How old are you? \"))\n",
        "\n",
        "if your_age >= driving_age:\n",
        "  print(\"You're old enough to drive!\")\n",
        "if your_age < driving_age:\n",
        "  print(\"Sorry, but you can drive in\", driving_age - your_age, \"years.\")"
      ],
      "execution_count": 11,
      "outputs": [
        {
          "output_type": "stream",
          "text": [
            "What is the legal drving age where you live? 16\n",
            "How old are you? 1000000000\n",
            "You're old enough to drive!\n"
          ],
          "name": "stdout"
        }
      ]
    },
    {
      "cell_type": "markdown",
      "metadata": {
        "id": "iU2A0aD9ZaRM"
      },
      "source": [
        "# If, else statements"
      ]
    },
    {
      "cell_type": "code",
      "metadata": {
        "colab": {
          "base_uri": "https://localhost:8080/"
        },
        "id": "aly_2Y9hXVt-",
        "outputId": "7a1caa84-0134-4149-ac57-e9c72f293ee2"
      },
      "source": [
        "driving_age = eval(input(\"What is the legal drving age where you live? \"))\n",
        "your_age = eval(input(\"How old are you? \"))\n",
        "\n",
        "if your_age >= driving_age:\n",
        "  print(\"You're old enough to drive!\")\n",
        "else:\n",
        "  print(\"Sorry, but you can drive in\", driving_age - your_age, \"years.\")"
      ],
      "execution_count": 13,
      "outputs": [
        {
          "output_type": "stream",
          "text": [
            "What is the legal drving age where you live? 16\n",
            "How old are you? 7\n",
            "Sorry, but you can drive in 9 years.\n"
          ],
          "name": "stdout"
        }
      ]
    },
    {
      "cell_type": "markdown",
      "metadata": {
        "id": "5ze6c1PWZ7bU"
      },
      "source": [
        "## If, elif, else statements"
      ]
    },
    {
      "cell_type": "code",
      "metadata": {
        "colab": {
          "base_uri": "https://localhost:8080/"
        },
        "id": "vCNVMBeJZgsh",
        "outputId": "b5af1887-df1b-451a-ad0f-5b7256de35f0"
      },
      "source": [
        "# grade tracker program\n",
        "# 100-90, 80-89, 70-79, 60-69, else\n",
        "grade = round(eval(input(\"Enter your number grade (0-100) \")))\n",
        "\n",
        "if grade >=90:\n",
        "  print(\"You got an A\")\n",
        "elif grade >= 80:\n",
        "  print(\"You got a B\")\n",
        "elif grade >= 70:\n",
        "  print(\"You got a C\")\n",
        "elif grade >= 60:\n",
        "  print(\"You got a D\")\n",
        "else:\n",
        "  print(\"You got an F\")\n"
      ],
      "execution_count": 21,
      "outputs": [
        {
          "output_type": "stream",
          "text": [
            "Enter your number grade (0-100) 89.99\n",
            "You got an A\n"
          ],
          "name": "stdout"
        }
      ]
    },
    {
      "cell_type": "markdown",
      "metadata": {
        "id": "50Mkek8McrvE"
      },
      "source": [
        "HELLO -> URYYB -> HELLO"
      ]
    },
    {
      "cell_type": "code",
      "metadata": {
        "colab": {
          "base_uri": "https://localhost:8080/",
          "height": 35
        },
        "id": "HAntQ03pcEyd",
        "outputId": "a505d3dd-b1d4-4891-b364-81610922b9c8"
      },
      "source": [
        "'hello'.upper()"
      ],
      "execution_count": 22,
      "outputs": [
        {
          "output_type": "execute_result",
          "data": {
            "application/vnd.google.colaboratory.intrinsic+json": {
              "type": "string"
            },
            "text/plain": [
              "'HELLO'"
            ]
          },
          "metadata": {
            "tags": []
          },
          "execution_count": 22
        }
      ]
    },
    {
      "cell_type": "code",
      "metadata": {
        "colab": {
          "base_uri": "https://localhost:8080/",
          "height": 35
        },
        "id": "9Nbednvnd2Fg",
        "outputId": "4668f763-c1bc-4bce-9224-627ee5d2ecb6"
      },
      "source": [
        "'HELLO'.lower()"
      ],
      "execution_count": 23,
      "outputs": [
        {
          "output_type": "execute_result",
          "data": {
            "application/vnd.google.colaboratory.intrinsic+json": {
              "type": "string"
            },
            "text/plain": [
              "'hello'"
            ]
          },
          "metadata": {
            "tags": []
          },
          "execution_count": 23
        }
      ]
    },
    {
      "cell_type": "code",
      "metadata": {
        "colab": {
          "base_uri": "https://localhost:8080/"
        },
        "id": "TOGjngfBd5Ll",
        "outputId": "5f82fd22-8a88-464e-e777-7122fc1a8618"
      },
      "source": [
        "'H'.islower()"
      ],
      "execution_count": 24,
      "outputs": [
        {
          "output_type": "execute_result",
          "data": {
            "text/plain": [
              "False"
            ]
          },
          "metadata": {
            "tags": []
          },
          "execution_count": 24
        }
      ]
    },
    {
      "cell_type": "code",
      "metadata": {
        "colab": {
          "base_uri": "https://localhost:8080/"
        },
        "id": "KjyrcEuod9Pj",
        "outputId": "7dacd711-4d7a-4e02-b18d-fc4f50f232d4"
      },
      "source": [
        "'H'.isupper()"
      ],
      "execution_count": 25,
      "outputs": [
        {
          "output_type": "execute_result",
          "data": {
            "text/plain": [
              "True"
            ]
          },
          "metadata": {
            "tags": []
          },
          "execution_count": 25
        }
      ]
    },
    {
      "cell_type": "markdown",
      "metadata": {
        "id": "v-EQTS6keLbN"
      },
      "source": [
        "`SPACE = 32`\n",
        "`* = 42`\n",
        "`a = 97`"
      ]
    },
    {
      "cell_type": "code",
      "metadata": {
        "colab": {
          "base_uri": "https://localhost:8080/"
        },
        "id": "rvSU78ihd-wa",
        "outputId": "59733f80-8822-4e48-bbc6-d01958bf3233"
      },
      "source": [
        "ord(\"*\")"
      ],
      "execution_count": 26,
      "outputs": [
        {
          "output_type": "execute_result",
          "data": {
            "text/plain": [
              "42"
            ]
          },
          "metadata": {
            "tags": []
          },
          "execution_count": 26
        }
      ]
    },
    {
      "cell_type": "code",
      "metadata": {
        "colab": {
          "base_uri": "https://localhost:8080/"
        },
        "id": "Wa6NtCJmebJD",
        "outputId": "9bb62958-5262-465d-f14f-f47e28183b0a"
      },
      "source": [
        "ord(\" \")"
      ],
      "execution_count": 27,
      "outputs": [
        {
          "output_type": "execute_result",
          "data": {
            "text/plain": [
              "32"
            ]
          },
          "metadata": {
            "tags": []
          },
          "execution_count": 27
        }
      ]
    },
    {
      "cell_type": "code",
      "metadata": {
        "colab": {
          "base_uri": "https://localhost:8080/"
        },
        "id": "6csCuzepedt0",
        "outputId": "b99d3581-ae0c-4889-a3e4-7809aebe12cc"
      },
      "source": [
        "ord(\"a\")"
      ],
      "execution_count": 28,
      "outputs": [
        {
          "output_type": "execute_result",
          "data": {
            "text/plain": [
              "97"
            ]
          },
          "metadata": {
            "tags": []
          },
          "execution_count": 28
        }
      ]
    },
    {
      "cell_type": "code",
      "metadata": {
        "colab": {
          "base_uri": "https://localhost:8080/",
          "height": 35
        },
        "id": "xbZL4XIeefS9",
        "outputId": "4b04c0f2-9fb3-489f-a48a-deae22424cdb"
      },
      "source": [
        "chr(97)"
      ],
      "execution_count": 29,
      "outputs": [
        {
          "output_type": "execute_result",
          "data": {
            "application/vnd.google.colaboratory.intrinsic+json": {
              "type": "string"
            },
            "text/plain": [
              "'a'"
            ]
          },
          "metadata": {
            "tags": []
          },
          "execution_count": 29
        }
      ]
    },
    {
      "cell_type": "code",
      "metadata": {
        "colab": {
          "base_uri": "https://localhost:8080/",
          "height": 35
        },
        "id": "nhJIqRDyejfx",
        "outputId": "3f86c9e6-83e0-4c6d-b169-427e47f4c6dc"
      },
      "source": [
        "chr(42)"
      ],
      "execution_count": 30,
      "outputs": [
        {
          "output_type": "execute_result",
          "data": {
            "application/vnd.google.colaboratory.intrinsic+json": {
              "type": "string"
            },
            "text/plain": [
              "'*'"
            ]
          },
          "metadata": {
            "tags": []
          },
          "execution_count": 30
        }
      ]
    },
    {
      "cell_type": "markdown",
      "metadata": {
        "id": "IhzGYkGWerZ0"
      },
      "source": [
        ""
      ]
    },
    {
      "cell_type": "markdown",
      "metadata": {
        "id": "5xA46qjCepNj"
      },
      "source": [
        "# Your First Decoder Ring"
      ]
    },
    {
      "cell_type": "code",
      "metadata": {
        "colab": {
          "base_uri": "https://localhost:8080/"
        },
        "id": "3ABlUj06fKMS",
        "outputId": "feff90c0-0f59-4ec4-b8c6-9e324ffd6f9d"
      },
      "source": [
        "ord(\"A\")"
      ],
      "execution_count": 31,
      "outputs": [
        {
          "output_type": "execute_result",
          "data": {
            "text/plain": [
              "65"
            ]
          },
          "metadata": {
            "tags": []
          },
          "execution_count": 31
        }
      ]
    },
    {
      "cell_type": "code",
      "metadata": {
        "colab": {
          "base_uri": "https://localhost:8080/",
          "height": 35
        },
        "id": "hSQxFQvyfMu7",
        "outputId": "a9f0e549-a351-4df0-d4bd-7c18179a4bd6"
      },
      "source": [
        "chr(65 + 13)"
      ],
      "execution_count": 33,
      "outputs": [
        {
          "output_type": "execute_result",
          "data": {
            "application/vnd.google.colaboratory.intrinsic+json": {
              "type": "string"
            },
            "text/plain": [
              "'N'"
            ]
          },
          "metadata": {
            "tags": []
          },
          "execution_count": 33
        }
      ]
    },
    {
      "cell_type": "code",
      "metadata": {
        "colab": {
          "base_uri": "https://localhost:8080/"
        },
        "id": "scExcNW2ela2",
        "outputId": "0f558cf0-c0c2-41da-c14f-d6675d3f3894"
      },
      "source": [
        "# Encoder/Decoder Program\n",
        "\n",
        "message = input(\"Enter your message to encode/decode: \")\n",
        "message = message.upper()    # Make it all UPPERCASE\n",
        "output = \"\"                  # Create an empty string to hold output\n",
        "for letter in message:       # Loop though each letter of the message\n",
        "  if letter.isupper():       # If the letter is in the alphabet (A-Z)\n",
        "    value = ord(letter) + 13 # shift the letter value up by 13,\n",
        "    letter = chr(value)      # turn the value back into a letter\n",
        "    if not letter.isupper(): # and check to see if we shifted too far\n",
        "      value -= 26            # If we did, wrap it back around to Z->A\n",
        "      letter = chr(value)    # by subtracking 26t from the letter value\n",
        "  output += letter           # Add the letter to our putout string\n",
        "print(\"Output message:\\n\", output) # Output our coded/decoded message"
      ],
      "execution_count": 50,
      "outputs": [
        {
          "output_type": "stream",
          "text": [
            "Enter your message to encode/decode: JR UNQ N SHA PYNFF GBQNL!\n",
            "Output message:\n",
            " WE HAD A FUN CLASS TODAY!\n"
          ],
          "name": "stdout"
        }
      ]
    },
    {
      "cell_type": "code",
      "metadata": {
        "colab": {
          "base_uri": "https://localhost:8080/"
        },
        "id": "cCUPYlSLf8co",
        "outputId": "2d1fefe1-ff32-4b51-ec86-48af404c364b"
      },
      "source": [
        "ord(\"H\")"
      ],
      "execution_count": 51,
      "outputs": [
        {
          "output_type": "execute_result",
          "data": {
            "text/plain": [
              "72"
            ]
          },
          "metadata": {
            "tags": []
          },
          "execution_count": 51
        }
      ]
    },
    {
      "cell_type": "code",
      "metadata": {
        "colab": {
          "base_uri": "https://localhost:8080/",
          "height": 35
        },
        "id": "nOSISvB1go_j",
        "outputId": "386dee1a-7bf6-4ba7-8064-a353c7f65952"
      },
      "source": [
        "chr(72+13)"
      ],
      "execution_count": 39,
      "outputs": [
        {
          "output_type": "execute_result",
          "data": {
            "application/vnd.google.colaboratory.intrinsic+json": {
              "type": "string"
            },
            "text/plain": [
              "'U'"
            ]
          },
          "metadata": {
            "tags": []
          },
          "execution_count": 39
        }
      ]
    },
    {
      "cell_type": "code",
      "metadata": {
        "id": "qXDNRhMggrXz"
      },
      "source": [
        ""
      ],
      "execution_count": null,
      "outputs": []
    }
  ]
}